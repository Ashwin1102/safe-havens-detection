{
 "cells": [
  {
   "cell_type": "code",
   "execution_count": 1,
   "metadata": {},
   "outputs": [],
   "source": [
    "import pandas as pd"
   ]
  },
  {
   "cell_type": "code",
   "execution_count": 16,
   "metadata": {},
   "outputs": [],
   "source": [
    "banks_df = pd.read_csv('../Data/law_fips.csv')"
   ]
  },
  {
   "cell_type": "code",
   "execution_count": 17,
   "metadata": {},
   "outputs": [
    {
     "data": {
      "text/html": [
       "<div>\n",
       "<style scoped>\n",
       "    .dataframe tbody tr th:only-of-type {\n",
       "        vertical-align: middle;\n",
       "    }\n",
       "\n",
       "    .dataframe tbody tr th {\n",
       "        vertical-align: top;\n",
       "    }\n",
       "\n",
       "    .dataframe thead th {\n",
       "        text-align: right;\n",
       "    }\n",
       "</style>\n",
       "<table border=\"1\" class=\"dataframe\">\n",
       "  <thead>\n",
       "    <tr style=\"text-align: right;\">\n",
       "      <th></th>\n",
       "      <th>Unnamed: 0</th>\n",
       "      <th>X</th>\n",
       "      <th>Y</th>\n",
       "      <th>FID</th>\n",
       "      <th>Food_Bank_Name</th>\n",
       "      <th>Address</th>\n",
       "      <th>City</th>\n",
       "      <th>Status</th>\n",
       "      <th>latitude</th>\n",
       "      <th>longitude</th>\n",
       "      <th>County</th>\n",
       "      <th>fips_code</th>\n",
       "    </tr>\n",
       "  </thead>\n",
       "  <tbody>\n",
       "    <tr>\n",
       "      <th>0</th>\n",
       "      <td>0</td>\n",
       "      <td>-8.100265e+06</td>\n",
       "      <td>5.083471e+06</td>\n",
       "      <td>1</td>\n",
       "      <td>Connecticut Food Bank</td>\n",
       "      <td>2 Research Parkway</td>\n",
       "      <td>Wallingford</td>\n",
       "      <td>Unstable</td>\n",
       "      <td>41.480469</td>\n",
       "      <td>-72.765918</td>\n",
       "      <td>New Haven County</td>\n",
       "      <td>9009</td>\n",
       "    </tr>\n",
       "    <tr>\n",
       "      <th>1</th>\n",
       "      <td>1</td>\n",
       "      <td>-8.095874e+06</td>\n",
       "      <td>5.140930e+06</td>\n",
       "      <td>2</td>\n",
       "      <td>Foodshare</td>\n",
       "      <td>450 Woodland Avenue</td>\n",
       "      <td>Bloomfield</td>\n",
       "      <td>Stable</td>\n",
       "      <td>41.866016</td>\n",
       "      <td>-72.726471</td>\n",
       "      <td>Hartford County</td>\n",
       "      <td>9003</td>\n",
       "    </tr>\n",
       "    <tr>\n",
       "      <th>2</th>\n",
       "      <td>2</td>\n",
       "      <td>-8.083437e+06</td>\n",
       "      <td>5.220823e+06</td>\n",
       "      <td>3</td>\n",
       "      <td>The Food Bank of Western Massachusetts</td>\n",
       "      <td>97 North Hatfield Road</td>\n",
       "      <td>Hatfield</td>\n",
       "      <td>Stabilizing</td>\n",
       "      <td>42.398251</td>\n",
       "      <td>-72.614750</td>\n",
       "      <td>Hampshire County</td>\n",
       "      <td>25015</td>\n",
       "    </tr>\n",
       "    <tr>\n",
       "      <th>3</th>\n",
       "      <td>3</td>\n",
       "      <td>-7.910998e+06</td>\n",
       "      <td>5.211109e+06</td>\n",
       "      <td>4</td>\n",
       "      <td>The Greater Boston Food Bank</td>\n",
       "      <td>70 South Bay Ave</td>\n",
       "      <td>Boston</td>\n",
       "      <td>Stabilizing</td>\n",
       "      <td>42.333775</td>\n",
       "      <td>-71.065704</td>\n",
       "      <td>Suffolk County</td>\n",
       "      <td>25025</td>\n",
       "    </tr>\n",
       "    <tr>\n",
       "      <th>4</th>\n",
       "      <td>4</td>\n",
       "      <td>-7.983969e+06</td>\n",
       "      <td>5.202478e+06</td>\n",
       "      <td>5</td>\n",
       "      <td>Worcester County Food Bank, Inc.</td>\n",
       "      <td>474 Boston Turnpike</td>\n",
       "      <td>Shrewsbury</td>\n",
       "      <td>Stable</td>\n",
       "      <td>42.276431</td>\n",
       "      <td>-71.721210</td>\n",
       "      <td>Worcester County</td>\n",
       "      <td>25027</td>\n",
       "    </tr>\n",
       "  </tbody>\n",
       "</table>\n",
       "</div>"
      ],
      "text/plain": [
       "   Unnamed: 0             X             Y  FID  \\\n",
       "0           0 -8.100265e+06  5.083471e+06    1   \n",
       "1           1 -8.095874e+06  5.140930e+06    2   \n",
       "2           2 -8.083437e+06  5.220823e+06    3   \n",
       "3           3 -7.910998e+06  5.211109e+06    4   \n",
       "4           4 -7.983969e+06  5.202478e+06    5   \n",
       "\n",
       "                           Food_Bank_Name                 Address  \\\n",
       "0                   Connecticut Food Bank      2 Research Parkway   \n",
       "1                               Foodshare     450 Woodland Avenue   \n",
       "2  The Food Bank of Western Massachusetts  97 North Hatfield Road   \n",
       "3            The Greater Boston Food Bank        70 South Bay Ave   \n",
       "4        Worcester County Food Bank, Inc.     474 Boston Turnpike   \n",
       "\n",
       "          City       Status   latitude  longitude            County  fips_code  \n",
       "0  Wallingford     Unstable  41.480469 -72.765918  New Haven County       9009  \n",
       "1   Bloomfield       Stable  41.866016 -72.726471   Hartford County       9003  \n",
       "2     Hatfield  Stabilizing  42.398251 -72.614750  Hampshire County      25015  \n",
       "3       Boston  Stabilizing  42.333775 -71.065704    Suffolk County      25025  \n",
       "4   Shrewsbury       Stable  42.276431 -71.721210  Worcester County      25027  "
      ]
     },
     "execution_count": 17,
     "metadata": {},
     "output_type": "execute_result"
    }
   ],
   "source": [
    "banks_df.head()"
   ]
  },
  {
   "cell_type": "code",
   "execution_count": 19,
   "metadata": {},
   "outputs": [],
   "source": [
    "final_df = banks_df[['FID', 'Food_Bank_Name', 'Address', 'Status', 'City', 'fips_code']]"
   ]
  },
  {
   "cell_type": "code",
   "execution_count": 20,
   "metadata": {},
   "outputs": [],
   "source": [
    "city_df = pd.read_csv('../Cleaned Data/cleaned_us_cities.csv')"
   ]
  },
  {
   "cell_type": "code",
   "execution_count": 21,
   "metadata": {},
   "outputs": [],
   "source": [
    "final_df.columns = ['food_banks_id', 'food_bank_name', 'address', 'status', 'city_name', 'fips_code']"
   ]
  },
  {
   "cell_type": "code",
   "execution_count": 22,
   "metadata": {},
   "outputs": [
    {
     "name": "stderr",
     "output_type": "stream",
     "text": [
      "C:\\Users\\ashwi\\AppData\\Local\\Temp\\ipykernel_26172\\4257046467.py:1: SettingWithCopyWarning: \n",
      "A value is trying to be set on a copy of a slice from a DataFrame.\n",
      "Try using .loc[row_indexer,col_indexer] = value instead\n",
      "\n",
      "See the caveats in the documentation: https://pandas.pydata.org/pandas-docs/stable/user_guide/indexing.html#returning-a-view-versus-a-copy\n",
      "  final_df['fips_code'] = final_df['fips_code'].astype(int)\n"
     ]
    }
   ],
   "source": [
    "final_df['fips_code'] = final_df['fips_code'].astype(int)"
   ]
  },
  {
   "cell_type": "code",
   "execution_count": 23,
   "metadata": {},
   "outputs": [
    {
     "data": {
      "text/html": [
       "<div>\n",
       "<style scoped>\n",
       "    .dataframe tbody tr th:only-of-type {\n",
       "        vertical-align: middle;\n",
       "    }\n",
       "\n",
       "    .dataframe tbody tr th {\n",
       "        vertical-align: top;\n",
       "    }\n",
       "\n",
       "    .dataframe thead th {\n",
       "        text-align: right;\n",
       "    }\n",
       "</style>\n",
       "<table border=\"1\" class=\"dataframe\">\n",
       "  <thead>\n",
       "    <tr style=\"text-align: right;\">\n",
       "      <th></th>\n",
       "      <th>food_banks_id</th>\n",
       "      <th>food_bank_name</th>\n",
       "      <th>address</th>\n",
       "      <th>status</th>\n",
       "      <th>city_name</th>\n",
       "      <th>fips_code</th>\n",
       "    </tr>\n",
       "  </thead>\n",
       "  <tbody>\n",
       "    <tr>\n",
       "      <th>0</th>\n",
       "      <td>1</td>\n",
       "      <td>Connecticut Food Bank</td>\n",
       "      <td>2 Research Parkway</td>\n",
       "      <td>Unstable</td>\n",
       "      <td>Wallingford</td>\n",
       "      <td>9009</td>\n",
       "    </tr>\n",
       "    <tr>\n",
       "      <th>1</th>\n",
       "      <td>2</td>\n",
       "      <td>Foodshare</td>\n",
       "      <td>450 Woodland Avenue</td>\n",
       "      <td>Stable</td>\n",
       "      <td>Bloomfield</td>\n",
       "      <td>9003</td>\n",
       "    </tr>\n",
       "    <tr>\n",
       "      <th>2</th>\n",
       "      <td>3</td>\n",
       "      <td>The Food Bank of Western Massachusetts</td>\n",
       "      <td>97 North Hatfield Road</td>\n",
       "      <td>Stabilizing</td>\n",
       "      <td>Hatfield</td>\n",
       "      <td>25015</td>\n",
       "    </tr>\n",
       "    <tr>\n",
       "      <th>3</th>\n",
       "      <td>4</td>\n",
       "      <td>The Greater Boston Food Bank</td>\n",
       "      <td>70 South Bay Ave</td>\n",
       "      <td>Stabilizing</td>\n",
       "      <td>Boston</td>\n",
       "      <td>25025</td>\n",
       "    </tr>\n",
       "    <tr>\n",
       "      <th>4</th>\n",
       "      <td>5</td>\n",
       "      <td>Worcester County Food Bank, Inc.</td>\n",
       "      <td>474 Boston Turnpike</td>\n",
       "      <td>Stable</td>\n",
       "      <td>Shrewsbury</td>\n",
       "      <td>25027</td>\n",
       "    </tr>\n",
       "  </tbody>\n",
       "</table>\n",
       "</div>"
      ],
      "text/plain": [
       "   food_banks_id                          food_bank_name  \\\n",
       "0              1                   Connecticut Food Bank   \n",
       "1              2                               Foodshare   \n",
       "2              3  The Food Bank of Western Massachusetts   \n",
       "3              4            The Greater Boston Food Bank   \n",
       "4              5        Worcester County Food Bank, Inc.   \n",
       "\n",
       "                  address       status    city_name  fips_code  \n",
       "0      2 Research Parkway     Unstable  Wallingford       9009  \n",
       "1     450 Woodland Avenue       Stable   Bloomfield       9003  \n",
       "2  97 North Hatfield Road  Stabilizing     Hatfield      25015  \n",
       "3        70 South Bay Ave  Stabilizing       Boston      25025  \n",
       "4     474 Boston Turnpike       Stable   Shrewsbury      25027  "
      ]
     },
     "execution_count": 23,
     "metadata": {},
     "output_type": "execute_result"
    }
   ],
   "source": [
    "final_df.head()"
   ]
  },
  {
   "cell_type": "code",
   "execution_count": 24,
   "metadata": {},
   "outputs": [
    {
     "data": {
      "text/html": [
       "<div>\n",
       "<style scoped>\n",
       "    .dataframe tbody tr th:only-of-type {\n",
       "        vertical-align: middle;\n",
       "    }\n",
       "\n",
       "    .dataframe tbody tr th {\n",
       "        vertical-align: top;\n",
       "    }\n",
       "\n",
       "    .dataframe thead th {\n",
       "        text-align: right;\n",
       "    }\n",
       "</style>\n",
       "<table border=\"1\" class=\"dataframe\">\n",
       "  <thead>\n",
       "    <tr style=\"text-align: right;\">\n",
       "      <th></th>\n",
       "      <th>Unnamed: 0</th>\n",
       "      <th>city_id</th>\n",
       "      <th>city_name</th>\n",
       "      <th>fips_code</th>\n",
       "    </tr>\n",
       "  </thead>\n",
       "  <tbody>\n",
       "    <tr>\n",
       "      <th>0</th>\n",
       "      <td>0</td>\n",
       "      <td>1840034016</td>\n",
       "      <td>New York</td>\n",
       "      <td>36081</td>\n",
       "    </tr>\n",
       "    <tr>\n",
       "      <th>1</th>\n",
       "      <td>1</td>\n",
       "      <td>1840020491</td>\n",
       "      <td>Los Angeles</td>\n",
       "      <td>6037</td>\n",
       "    </tr>\n",
       "    <tr>\n",
       "      <th>2</th>\n",
       "      <td>2</td>\n",
       "      <td>1840000494</td>\n",
       "      <td>Chicago</td>\n",
       "      <td>17031</td>\n",
       "    </tr>\n",
       "    <tr>\n",
       "      <th>3</th>\n",
       "      <td>3</td>\n",
       "      <td>1840015149</td>\n",
       "      <td>Miami</td>\n",
       "      <td>12086</td>\n",
       "    </tr>\n",
       "    <tr>\n",
       "      <th>4</th>\n",
       "      <td>4</td>\n",
       "      <td>1840020925</td>\n",
       "      <td>Houston</td>\n",
       "      <td>48201</td>\n",
       "    </tr>\n",
       "  </tbody>\n",
       "</table>\n",
       "</div>"
      ],
      "text/plain": [
       "   Unnamed: 0     city_id    city_name  fips_code\n",
       "0           0  1840034016     New York      36081\n",
       "1           1  1840020491  Los Angeles       6037\n",
       "2           2  1840000494      Chicago      17031\n",
       "3           3  1840015149        Miami      12086\n",
       "4           4  1840020925      Houston      48201"
      ]
     },
     "execution_count": 24,
     "metadata": {},
     "output_type": "execute_result"
    }
   ],
   "source": [
    "city_df.head()"
   ]
  },
  {
   "cell_type": "code",
   "execution_count": 25,
   "metadata": {},
   "outputs": [],
   "source": [
    "merged_df_final = final_df.merge(city_df, how='inner', on=['fips_code', 'city_name'])\n"
   ]
  },
  {
   "cell_type": "code",
   "execution_count": 26,
   "metadata": {},
   "outputs": [
    {
     "data": {
      "text/plain": [
       "(182, 8)"
      ]
     },
     "execution_count": 26,
     "metadata": {},
     "output_type": "execute_result"
    }
   ],
   "source": [
    "merged_df_final.shape"
   ]
  },
  {
   "cell_type": "code",
   "execution_count": 27,
   "metadata": {},
   "outputs": [
    {
     "data": {
      "text/html": [
       "<div>\n",
       "<style scoped>\n",
       "    .dataframe tbody tr th:only-of-type {\n",
       "        vertical-align: middle;\n",
       "    }\n",
       "\n",
       "    .dataframe tbody tr th {\n",
       "        vertical-align: top;\n",
       "    }\n",
       "\n",
       "    .dataframe thead th {\n",
       "        text-align: right;\n",
       "    }\n",
       "</style>\n",
       "<table border=\"1\" class=\"dataframe\">\n",
       "  <thead>\n",
       "    <tr style=\"text-align: right;\">\n",
       "      <th></th>\n",
       "      <th>food_banks_id</th>\n",
       "      <th>food_bank_name</th>\n",
       "      <th>address</th>\n",
       "      <th>status</th>\n",
       "      <th>city_name</th>\n",
       "      <th>fips_code</th>\n",
       "      <th>Unnamed: 0</th>\n",
       "      <th>city_id</th>\n",
       "    </tr>\n",
       "  </thead>\n",
       "  <tbody>\n",
       "    <tr>\n",
       "      <th>0</th>\n",
       "      <td>4</td>\n",
       "      <td>The Greater Boston Food Bank</td>\n",
       "      <td>70 South Bay Ave</td>\n",
       "      <td>Stabilizing</td>\n",
       "      <td>Boston</td>\n",
       "      <td>25025</td>\n",
       "      <td>9</td>\n",
       "      <td>1840000455</td>\n",
       "    </tr>\n",
       "    <tr>\n",
       "      <th>1</th>\n",
       "      <td>6</td>\n",
       "      <td>Good Shepherd Food Bank</td>\n",
       "      <td>3121 Hotel Road</td>\n",
       "      <td>Stable</td>\n",
       "      <td>Auburn</td>\n",
       "      <td>23001</td>\n",
       "      <td>1906</td>\n",
       "      <td>1840000319</td>\n",
       "    </tr>\n",
       "    <tr>\n",
       "      <th>2</th>\n",
       "      <td>7</td>\n",
       "      <td>New Hampshire Food Bank</td>\n",
       "      <td>700 East Industrial Park Drive</td>\n",
       "      <td>Stable</td>\n",
       "      <td>Manchester</td>\n",
       "      <td>33011</td>\n",
       "      <td>263</td>\n",
       "      <td>1840002983</td>\n",
       "    </tr>\n",
       "    <tr>\n",
       "      <th>3</th>\n",
       "      <td>8</td>\n",
       "      <td>Rhode Island Community Food Bank</td>\n",
       "      <td>200 Niantic Ave.</td>\n",
       "      <td>Stable</td>\n",
       "      <td>Providence</td>\n",
       "      <td>44007</td>\n",
       "      <td>42</td>\n",
       "      <td>1840003289</td>\n",
       "    </tr>\n",
       "    <tr>\n",
       "      <th>4</th>\n",
       "      <td>9</td>\n",
       "      <td>Vermont Foodbank</td>\n",
       "      <td>33 Parker Road</td>\n",
       "      <td>Stable</td>\n",
       "      <td>Barre</td>\n",
       "      <td>50023</td>\n",
       "      <td>4606</td>\n",
       "      <td>1840002186</td>\n",
       "    </tr>\n",
       "  </tbody>\n",
       "</table>\n",
       "</div>"
      ],
      "text/plain": [
       "   food_banks_id                    food_bank_name  \\\n",
       "0              4      The Greater Boston Food Bank   \n",
       "1              6           Good Shepherd Food Bank   \n",
       "2              7           New Hampshire Food Bank   \n",
       "3              8  Rhode Island Community Food Bank   \n",
       "4              9                  Vermont Foodbank   \n",
       "\n",
       "                          address       status   city_name  fips_code  \\\n",
       "0                70 South Bay Ave  Stabilizing      Boston      25025   \n",
       "1                 3121 Hotel Road       Stable      Auburn      23001   \n",
       "2  700 East Industrial Park Drive       Stable  Manchester      33011   \n",
       "3                200 Niantic Ave.       Stable  Providence      44007   \n",
       "4                  33 Parker Road       Stable       Barre      50023   \n",
       "\n",
       "   Unnamed: 0     city_id  \n",
       "0           9  1840000455  \n",
       "1        1906  1840000319  \n",
       "2         263  1840002983  \n",
       "3          42  1840003289  \n",
       "4        4606  1840002186  "
      ]
     },
     "execution_count": 27,
     "metadata": {},
     "output_type": "execute_result"
    }
   ],
   "source": [
    "merged_df_final.head()"
   ]
  },
  {
   "cell_type": "code",
   "execution_count": 28,
   "metadata": {},
   "outputs": [],
   "source": [
    "merged_df_final = merged_df_final[['city_id', 'food_banks_id', 'food_bank_name', 'address', 'status']]"
   ]
  },
  {
   "cell_type": "code",
   "execution_count": 29,
   "metadata": {},
   "outputs": [],
   "source": [
    "merged_df_final.to_csv('../Cleaned Data/cleaned_food_banks.csv')"
   ]
  }
 ],
 "metadata": {
  "kernelspec": {
   "display_name": "Python 3",
   "language": "python",
   "name": "python3"
  },
  "language_info": {
   "codemirror_mode": {
    "name": "ipython",
    "version": 3
   },
   "file_extension": ".py",
   "mimetype": "text/x-python",
   "name": "python",
   "nbconvert_exporter": "python",
   "pygments_lexer": "ipython3",
   "version": "3.12.4"
  }
 },
 "nbformat": 4,
 "nbformat_minor": 2
}
