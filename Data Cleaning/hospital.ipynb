{
 "cells": [
  {
   "cell_type": "code",
   "execution_count": 54,
   "metadata": {},
   "outputs": [],
   "source": [
    "import pandas as pd"
   ]
  },
  {
   "cell_type": "code",
   "execution_count": 55,
   "metadata": {},
   "outputs": [],
   "source": [
    "hospital_df = pd.read_csv('../Data/Hospitals.csv', header=1)"
   ]
  },
  {
   "cell_type": "code",
   "execution_count": 56,
   "metadata": {},
   "outputs": [
    {
     "data": {
      "text/html": [
       "<div>\n",
       "<style scoped>\n",
       "    .dataframe tbody tr th:only-of-type {\n",
       "        vertical-align: middle;\n",
       "    }\n",
       "\n",
       "    .dataframe tbody tr th {\n",
       "        vertical-align: top;\n",
       "    }\n",
       "\n",
       "    .dataframe thead th {\n",
       "        text-align: right;\n",
       "    }\n",
       "</style>\n",
       "<table border=\"1\" class=\"dataframe\">\n",
       "  <thead>\n",
       "    <tr style=\"text-align: right;\">\n",
       "      <th></th>\n",
       "      <th>1</th>\n",
       "      <th>﻿X,Y,OBJECTID,ID,NAME,ADDRESS,CITY,STATE,ZIP,ZIP4,TELEPHONE,TYPE,STATUS,POPULATION,COUNTY,COUNTYFIPS,COUNTRY,LATITUDE,LONGITUDE,NAICS_CODE,NAICS_DESC,SOURCE,SOURCEDATE,VAL_METHOD,VAL_DATE,WEBSITE,STATE_ID,ALT_NAME,ST_FIPS,OWNER,TTL_STAFF,BEDS,TRAUMA,HELIPAD</th>\n",
       "      <th>0</th>\n",
       "    </tr>\n",
       "  </thead>\n",
       "  <tbody>\n",
       "    <tr>\n",
       "      <th>0</th>\n",
       "      <td>2</td>\n",
       "      <td>-86.49454911,31.29579533,1,0001336420,ANDALUSI...</td>\n",
       "      <td>260</td>\n",
       "    </tr>\n",
       "    <tr>\n",
       "      <th>1</th>\n",
       "      <td>3</td>\n",
       "      <td>-86.9784072099999,34.8041639300001,2,000153561...</td>\n",
       "      <td>801</td>\n",
       "    </tr>\n",
       "    <tr>\n",
       "      <th>2</th>\n",
       "      <td>4</td>\n",
       "      <td>-87.47879851,31.0170238700001,3,0000136502,ATM...</td>\n",
       "      <td>1336</td>\n",
       "    </tr>\n",
       "    <tr>\n",
       "      <th>3</th>\n",
       "      <td>5</td>\n",
       "      <td>-86.17493002,32.3763995,4,0000236124,BAPTIST M...</td>\n",
       "      <td>1881</td>\n",
       "    </tr>\n",
       "    <tr>\n",
       "      <th>4</th>\n",
       "      <td>6</td>\n",
       "      <td>-86.27754935,32.3281539500001,5,0001736111,BAP...</td>\n",
       "      <td>2427</td>\n",
       "    </tr>\n",
       "  </tbody>\n",
       "</table>\n",
       "</div>"
      ],
      "text/plain": [
       "   1  \\\n",
       "0  2   \n",
       "1  3   \n",
       "2  4   \n",
       "3  5   \n",
       "4  6   \n",
       "\n",
       "  ﻿X,Y,OBJECTID,ID,NAME,ADDRESS,CITY,STATE,ZIP,ZIP4,TELEPHONE,TYPE,STATUS,POPULATION,COUNTY,COUNTYFIPS,COUNTRY,LATITUDE,LONGITUDE,NAICS_CODE,NAICS_DESC,SOURCE,SOURCEDATE,VAL_METHOD,VAL_DATE,WEBSITE,STATE_ID,ALT_NAME,ST_FIPS,OWNER,TTL_STAFF,BEDS,TRAUMA,HELIPAD  \\\n",
       "0  -86.49454911,31.29579533,1,0001336420,ANDALUSI...                                                                                                                                                                                                                  \n",
       "1  -86.9784072099999,34.8041639300001,2,000153561...                                                                                                                                                                                                                  \n",
       "2  -87.47879851,31.0170238700001,3,0000136502,ATM...                                                                                                                                                                                                                  \n",
       "3  -86.17493002,32.3763995,4,0000236124,BAPTIST M...                                                                                                                                                                                                                  \n",
       "4  -86.27754935,32.3281539500001,5,0001736111,BAP...                                                                                                                                                                                                                  \n",
       "\n",
       "      0  \n",
       "0   260  \n",
       "1   801  \n",
       "2  1336  \n",
       "3  1881  \n",
       "4  2427  "
      ]
     },
     "execution_count": 56,
     "metadata": {},
     "output_type": "execute_result"
    }
   ],
   "source": [
    "hospital_df.head()"
   ]
  },
  {
   "cell_type": "code",
   "execution_count": 57,
   "metadata": {},
   "outputs": [
    {
     "data": {
      "text/plain": [
       "Index(['1',\n",
       "       '﻿X,Y,OBJECTID,ID,NAME,ADDRESS,CITY,STATE,ZIP,ZIP4,TELEPHONE,TYPE,STATUS,POPULATION,COUNTY,COUNTYFIPS,COUNTRY,LATITUDE,LONGITUDE,NAICS_CODE,NAICS_DESC,SOURCE,SOURCEDATE,VAL_METHOD,VAL_DATE,WEBSITE,STATE_ID,ALT_NAME,ST_FIPS,OWNER,TTL_STAFF,BEDS,TRAUMA,HELIPAD',\n",
       "       '0'],\n",
       "      dtype='object')"
      ]
     },
     "execution_count": 57,
     "metadata": {},
     "output_type": "execute_result"
    }
   ],
   "source": [
    "hospital_df.columns"
   ]
  },
  {
   "cell_type": "code",
   "execution_count": 58,
   "metadata": {},
   "outputs": [],
   "source": [
    "hospital_df = hospital_df.drop(['1', '0'], axis = 1)"
   ]
  },
  {
   "cell_type": "code",
   "execution_count": 62,
   "metadata": {},
   "outputs": [],
   "source": [
    "columns = hospital_df.columns[0].split(',')"
   ]
  },
  {
   "cell_type": "code",
   "execution_count": 66,
   "metadata": {},
   "outputs": [
    {
     "data": {
      "text/plain": [
       "34"
      ]
     },
     "execution_count": 66,
     "metadata": {},
     "output_type": "execute_result"
    }
   ],
   "source": [
    "columns"
   ]
  },
  {
   "cell_type": "code",
   "execution_count": 67,
   "metadata": {},
   "outputs": [
    {
     "data": {
      "text/plain": [
       "'-86.49454911,31.29579533,1,0001336420,ANDALUSIA HEALTH,\"849 SOUTH THREE NOTCH STREET, PO BOX 760\",ANDALUSIA,AL,36420,NOT AVAILABLE,(334) 222-8466,GENERAL ACUTE CARE,OPEN,88,COVINGTON,01039,USA,31.29579533,-86.49454911,622110,GENERAL MEDICAL AND SURGICAL HOSPITALS,https://dph1.adph.state.al.us/FacilitiesDirectoryReports/Reports/ReportDirectoryExcelExport-2021-10-19-1245007191115.xls,2021/10/19 00:00:00+00,IMAGERY/OTHER,2014/02/10 00:00:00+00,http://www.andalusiaregionalhospital.com,H2001,NOT AVAILABLE,01,PROPRIETARY,-999,88,LEVEL III,Y'"
      ]
     },
     "execution_count": 67,
     "metadata": {},
     "output_type": "execute_result"
    }
   ],
   "source": [
    "hospital_df.iloc[0,0]"
   ]
  },
  {
   "cell_type": "code",
   "execution_count": 69,
   "metadata": {},
   "outputs": [],
   "source": [
    "import csv\n",
    "\n",
    "def parse_row(row):\n",
    "        return next(csv.reader([row]))"
   ]
  },
  {
   "cell_type": "code",
   "execution_count": 99,
   "metadata": {},
   "outputs": [],
   "source": [
    "col = hospital_df.columns[0]\n",
    "final_cols = hospital_df[col].apply(parse_row)\n",
    "final_df = pd.DataFrame(final_cols.tolist())"
   ]
  },
  {
   "cell_type": "code",
   "execution_count": 100,
   "metadata": {},
   "outputs": [],
   "source": [
    "final_df.columns = columns"
   ]
  },
  {
   "cell_type": "code",
   "execution_count": 101,
   "metadata": {},
   "outputs": [
    {
     "data": {
      "text/html": [
       "<div>\n",
       "<style scoped>\n",
       "    .dataframe tbody tr th:only-of-type {\n",
       "        vertical-align: middle;\n",
       "    }\n",
       "\n",
       "    .dataframe tbody tr th {\n",
       "        vertical-align: top;\n",
       "    }\n",
       "\n",
       "    .dataframe thead th {\n",
       "        text-align: right;\n",
       "    }\n",
       "</style>\n",
       "<table border=\"1\" class=\"dataframe\">\n",
       "  <thead>\n",
       "    <tr style=\"text-align: right;\">\n",
       "      <th></th>\n",
       "      <th>﻿X</th>\n",
       "      <th>Y</th>\n",
       "      <th>OBJECTID</th>\n",
       "      <th>ID</th>\n",
       "      <th>NAME</th>\n",
       "      <th>ADDRESS</th>\n",
       "      <th>CITY</th>\n",
       "      <th>STATE</th>\n",
       "      <th>ZIP</th>\n",
       "      <th>ZIP4</th>\n",
       "      <th>...</th>\n",
       "      <th>VAL_DATE</th>\n",
       "      <th>WEBSITE</th>\n",
       "      <th>STATE_ID</th>\n",
       "      <th>ALT_NAME</th>\n",
       "      <th>ST_FIPS</th>\n",
       "      <th>OWNER</th>\n",
       "      <th>TTL_STAFF</th>\n",
       "      <th>BEDS</th>\n",
       "      <th>TRAUMA</th>\n",
       "      <th>HELIPAD</th>\n",
       "    </tr>\n",
       "  </thead>\n",
       "  <tbody>\n",
       "    <tr>\n",
       "      <th>0</th>\n",
       "      <td>-86.49454911</td>\n",
       "      <td>31.29579533</td>\n",
       "      <td>1</td>\n",
       "      <td>0001336420</td>\n",
       "      <td>ANDALUSIA HEALTH</td>\n",
       "      <td>849 SOUTH THREE NOTCH STREET, PO BOX 760</td>\n",
       "      <td>ANDALUSIA</td>\n",
       "      <td>AL</td>\n",
       "      <td>36420</td>\n",
       "      <td>NOT AVAILABLE</td>\n",
       "      <td>...</td>\n",
       "      <td>2014/02/10 00:00:00+00</td>\n",
       "      <td>http://www.andalusiaregionalhospital.com</td>\n",
       "      <td>H2001</td>\n",
       "      <td>NOT AVAILABLE</td>\n",
       "      <td>01</td>\n",
       "      <td>PROPRIETARY</td>\n",
       "      <td>-999</td>\n",
       "      <td>88</td>\n",
       "      <td>LEVEL III</td>\n",
       "      <td>Y</td>\n",
       "    </tr>\n",
       "    <tr>\n",
       "      <th>1</th>\n",
       "      <td>-86.9784072099999</td>\n",
       "      <td>34.8041639300001</td>\n",
       "      <td>2</td>\n",
       "      <td>0001535611</td>\n",
       "      <td>ATHENS LIMESTONE HOSPITAL</td>\n",
       "      <td>700 WEST MARKET STREET</td>\n",
       "      <td>ATHENS</td>\n",
       "      <td>AL</td>\n",
       "      <td>35611</td>\n",
       "      <td>NOT AVAILABLE</td>\n",
       "      <td>...</td>\n",
       "      <td>2013/10/02 00:00:00+00</td>\n",
       "      <td>http://www.athenslimestonehospital.com</td>\n",
       "      <td>H4201</td>\n",
       "      <td>NOT AVAILABLE</td>\n",
       "      <td>01</td>\n",
       "      <td>PROPRIETARY</td>\n",
       "      <td>-999</td>\n",
       "      <td>71</td>\n",
       "      <td>LEVEL III</td>\n",
       "      <td>N</td>\n",
       "    </tr>\n",
       "    <tr>\n",
       "      <th>2</th>\n",
       "      <td>-87.47879851</td>\n",
       "      <td>31.0170238700001</td>\n",
       "      <td>3</td>\n",
       "      <td>0000136502</td>\n",
       "      <td>ATMORE COMMUNITY HOSPITAL</td>\n",
       "      <td>401 MEDICAL PARK DR</td>\n",
       "      <td>ATMORE</td>\n",
       "      <td>AL</td>\n",
       "      <td>36502</td>\n",
       "      <td>NOT AVAILABLE</td>\n",
       "      <td>...</td>\n",
       "      <td>2014/02/10 00:00:00+00</td>\n",
       "      <td>http://www.ebaptisthealthcare.org/atmorecommun...</td>\n",
       "      <td>H2704</td>\n",
       "      <td>NOT AVAILABLE</td>\n",
       "      <td>01</td>\n",
       "      <td>NON-PROFIT</td>\n",
       "      <td>-999</td>\n",
       "      <td>51</td>\n",
       "      <td>LEVEL III</td>\n",
       "      <td>Y</td>\n",
       "    </tr>\n",
       "    <tr>\n",
       "      <th>3</th>\n",
       "      <td>-86.17493002</td>\n",
       "      <td>32.3763995</td>\n",
       "      <td>4</td>\n",
       "      <td>0000236124</td>\n",
       "      <td>BAPTIST MEDICAL CENTER EAST</td>\n",
       "      <td>400 TAYLOR ROAD, PO BOX 241267</td>\n",
       "      <td>MONTGOMERY</td>\n",
       "      <td>AL</td>\n",
       "      <td>36117</td>\n",
       "      <td>1267</td>\n",
       "      <td>...</td>\n",
       "      <td>2013/09/03 00:00:00+00</td>\n",
       "      <td>http://www.baptistfirst.org</td>\n",
       "      <td>H5107</td>\n",
       "      <td>NOT AVAILABLE</td>\n",
       "      <td>01</td>\n",
       "      <td>GOVERNMENT - DISTRICT/AUTHORITY</td>\n",
       "      <td>-999</td>\n",
       "      <td>150</td>\n",
       "      <td>NOT AVAILABLE</td>\n",
       "      <td>Y</td>\n",
       "    </tr>\n",
       "    <tr>\n",
       "      <th>4</th>\n",
       "      <td>-86.27754935</td>\n",
       "      <td>32.3281539500001</td>\n",
       "      <td>5</td>\n",
       "      <td>0001736111</td>\n",
       "      <td>BAPTIST MEDICAL CENTER SOUTH</td>\n",
       "      <td>2105 EAST SOUTH BOULEVARD, PO BOX 11010</td>\n",
       "      <td>MONTGOMERY</td>\n",
       "      <td>AL</td>\n",
       "      <td>36111</td>\n",
       "      <td>0010</td>\n",
       "      <td>...</td>\n",
       "      <td>2014/03/12 00:00:00+00</td>\n",
       "      <td>http://www.baptistfirst.org</td>\n",
       "      <td>H5102</td>\n",
       "      <td>NOT AVAILABLE</td>\n",
       "      <td>01</td>\n",
       "      <td>GOVERNMENT - DISTRICT/AUTHORITY</td>\n",
       "      <td>-999</td>\n",
       "      <td>432</td>\n",
       "      <td>LEVEL II</td>\n",
       "      <td>Y</td>\n",
       "    </tr>\n",
       "  </tbody>\n",
       "</table>\n",
       "<p>5 rows × 34 columns</p>\n",
       "</div>"
      ],
      "text/plain": [
       "                  ﻿X                 Y OBJECTID          ID  \\\n",
       "0       -86.49454911       31.29579533        1  0001336420   \n",
       "1  -86.9784072099999  34.8041639300001        2  0001535611   \n",
       "2       -87.47879851  31.0170238700001        3  0000136502   \n",
       "3       -86.17493002        32.3763995        4  0000236124   \n",
       "4       -86.27754935  32.3281539500001        5  0001736111   \n",
       "\n",
       "                           NAME                                   ADDRESS  \\\n",
       "0              ANDALUSIA HEALTH  849 SOUTH THREE NOTCH STREET, PO BOX 760   \n",
       "1     ATHENS LIMESTONE HOSPITAL                    700 WEST MARKET STREET   \n",
       "2     ATMORE COMMUNITY HOSPITAL                       401 MEDICAL PARK DR   \n",
       "3   BAPTIST MEDICAL CENTER EAST            400 TAYLOR ROAD, PO BOX 241267   \n",
       "4  BAPTIST MEDICAL CENTER SOUTH   2105 EAST SOUTH BOULEVARD, PO BOX 11010   \n",
       "\n",
       "         CITY STATE    ZIP           ZIP4  ...                VAL_DATE  \\\n",
       "0   ANDALUSIA    AL  36420  NOT AVAILABLE  ...  2014/02/10 00:00:00+00   \n",
       "1      ATHENS    AL  35611  NOT AVAILABLE  ...  2013/10/02 00:00:00+00   \n",
       "2      ATMORE    AL  36502  NOT AVAILABLE  ...  2014/02/10 00:00:00+00   \n",
       "3  MONTGOMERY    AL  36117           1267  ...  2013/09/03 00:00:00+00   \n",
       "4  MONTGOMERY    AL  36111           0010  ...  2014/03/12 00:00:00+00   \n",
       "\n",
       "                                             WEBSITE STATE_ID       ALT_NAME  \\\n",
       "0           http://www.andalusiaregionalhospital.com    H2001  NOT AVAILABLE   \n",
       "1             http://www.athenslimestonehospital.com    H4201  NOT AVAILABLE   \n",
       "2  http://www.ebaptisthealthcare.org/atmorecommun...    H2704  NOT AVAILABLE   \n",
       "3                        http://www.baptistfirst.org    H5107  NOT AVAILABLE   \n",
       "4                        http://www.baptistfirst.org    H5102  NOT AVAILABLE   \n",
       "\n",
       "  ST_FIPS                            OWNER TTL_STAFF BEDS         TRAUMA  \\\n",
       "0      01                      PROPRIETARY      -999   88      LEVEL III   \n",
       "1      01                      PROPRIETARY      -999   71      LEVEL III   \n",
       "2      01                       NON-PROFIT      -999   51      LEVEL III   \n",
       "3      01  GOVERNMENT - DISTRICT/AUTHORITY      -999  150  NOT AVAILABLE   \n",
       "4      01  GOVERNMENT - DISTRICT/AUTHORITY      -999  432       LEVEL II   \n",
       "\n",
       "  HELIPAD  \n",
       "0       Y  \n",
       "1       N  \n",
       "2       Y  \n",
       "3       Y  \n",
       "4       Y  \n",
       "\n",
       "[5 rows x 34 columns]"
      ]
     },
     "execution_count": 101,
     "metadata": {},
     "output_type": "execute_result"
    }
   ],
   "source": [
    "final_df.head()"
   ]
  },
  {
   "cell_type": "code",
   "execution_count": 102,
   "metadata": {},
   "outputs": [
    {
     "data": {
      "text/plain": [
       "['\\ufeffX',\n",
       " 'Y',\n",
       " 'OBJECTID',\n",
       " 'ID',\n",
       " 'NAME',\n",
       " 'ADDRESS',\n",
       " 'CITY',\n",
       " 'STATE',\n",
       " 'ZIP',\n",
       " 'ZIP4',\n",
       " 'TELEPHONE',\n",
       " 'TYPE',\n",
       " 'STATUS',\n",
       " 'POPULATION',\n",
       " 'COUNTY',\n",
       " 'COUNTYFIPS',\n",
       " 'COUNTRY',\n",
       " 'LATITUDE',\n",
       " 'LONGITUDE',\n",
       " 'NAICS_CODE',\n",
       " 'NAICS_DESC',\n",
       " 'SOURCE',\n",
       " 'SOURCEDATE',\n",
       " 'VAL_METHOD',\n",
       " 'VAL_DATE',\n",
       " 'WEBSITE',\n",
       " 'STATE_ID',\n",
       " 'ALT_NAME',\n",
       " 'ST_FIPS',\n",
       " 'OWNER',\n",
       " 'TTL_STAFF',\n",
       " 'BEDS',\n",
       " 'TRAUMA',\n",
       " 'HELIPAD']"
      ]
     },
     "execution_count": 102,
     "metadata": {},
     "output_type": "execute_result"
    }
   ],
   "source": [
    "columns"
   ]
  },
  {
   "cell_type": "code",
   "execution_count": 103,
   "metadata": {},
   "outputs": [],
   "source": [
    "final_df = final_df[['ID', 'CITY', 'COUNTYFIPS', 'NAME', 'ADDRESS', 'STATUS', 'OWNER']]"
   ]
  },
  {
   "cell_type": "code",
   "execution_count": 104,
   "metadata": {},
   "outputs": [
    {
     "data": {
      "text/plain": [
       "Index(['ID', 'CITY', 'COUNTYFIPS', 'NAME', 'ADDRESS', 'STATUS', 'OWNER'], dtype='object')"
      ]
     },
     "execution_count": 104,
     "metadata": {},
     "output_type": "execute_result"
    }
   ],
   "source": [
    "final_df.columns"
   ]
  },
  {
   "cell_type": "code",
   "execution_count": 105,
   "metadata": {},
   "outputs": [],
   "source": [
    "final_df.columns = ['hospital_id', 'city_name', 'fips_code', 'name', 'address', 'status', 'owner']"
   ]
  },
  {
   "cell_type": "code",
   "execution_count": 106,
   "metadata": {},
   "outputs": [],
   "source": [
    "final_df['fips_code'] = final_df['fips_code'].astype(int)\n"
   ]
  },
  {
   "cell_type": "code",
   "execution_count": 107,
   "metadata": {},
   "outputs": [
    {
     "data": {
      "text/html": [
       "<div>\n",
       "<style scoped>\n",
       "    .dataframe tbody tr th:only-of-type {\n",
       "        vertical-align: middle;\n",
       "    }\n",
       "\n",
       "    .dataframe tbody tr th {\n",
       "        vertical-align: top;\n",
       "    }\n",
       "\n",
       "    .dataframe thead th {\n",
       "        text-align: right;\n",
       "    }\n",
       "</style>\n",
       "<table border=\"1\" class=\"dataframe\">\n",
       "  <thead>\n",
       "    <tr style=\"text-align: right;\">\n",
       "      <th></th>\n",
       "      <th>hospital_id</th>\n",
       "      <th>city_name</th>\n",
       "      <th>fips_code</th>\n",
       "      <th>name</th>\n",
       "      <th>address</th>\n",
       "      <th>status</th>\n",
       "      <th>owner</th>\n",
       "    </tr>\n",
       "  </thead>\n",
       "  <tbody>\n",
       "    <tr>\n",
       "      <th>0</th>\n",
       "      <td>0001336420</td>\n",
       "      <td>ANDALUSIA</td>\n",
       "      <td>1039</td>\n",
       "      <td>ANDALUSIA HEALTH</td>\n",
       "      <td>849 SOUTH THREE NOTCH STREET, PO BOX 760</td>\n",
       "      <td>OPEN</td>\n",
       "      <td>PROPRIETARY</td>\n",
       "    </tr>\n",
       "    <tr>\n",
       "      <th>1</th>\n",
       "      <td>0001535611</td>\n",
       "      <td>ATHENS</td>\n",
       "      <td>1083</td>\n",
       "      <td>ATHENS LIMESTONE HOSPITAL</td>\n",
       "      <td>700 WEST MARKET STREET</td>\n",
       "      <td>OPEN</td>\n",
       "      <td>PROPRIETARY</td>\n",
       "    </tr>\n",
       "    <tr>\n",
       "      <th>2</th>\n",
       "      <td>0000136502</td>\n",
       "      <td>ATMORE</td>\n",
       "      <td>1053</td>\n",
       "      <td>ATMORE COMMUNITY HOSPITAL</td>\n",
       "      <td>401 MEDICAL PARK DR</td>\n",
       "      <td>OPEN</td>\n",
       "      <td>NON-PROFIT</td>\n",
       "    </tr>\n",
       "    <tr>\n",
       "      <th>3</th>\n",
       "      <td>0000236124</td>\n",
       "      <td>MONTGOMERY</td>\n",
       "      <td>1101</td>\n",
       "      <td>BAPTIST MEDICAL CENTER EAST</td>\n",
       "      <td>400 TAYLOR ROAD, PO BOX 241267</td>\n",
       "      <td>OPEN</td>\n",
       "      <td>GOVERNMENT - DISTRICT/AUTHORITY</td>\n",
       "    </tr>\n",
       "    <tr>\n",
       "      <th>4</th>\n",
       "      <td>0001736111</td>\n",
       "      <td>MONTGOMERY</td>\n",
       "      <td>1101</td>\n",
       "      <td>BAPTIST MEDICAL CENTER SOUTH</td>\n",
       "      <td>2105 EAST SOUTH BOULEVARD, PO BOX 11010</td>\n",
       "      <td>OPEN</td>\n",
       "      <td>GOVERNMENT - DISTRICT/AUTHORITY</td>\n",
       "    </tr>\n",
       "  </tbody>\n",
       "</table>\n",
       "</div>"
      ],
      "text/plain": [
       "  hospital_id   city_name  fips_code                          name  \\\n",
       "0  0001336420   ANDALUSIA       1039              ANDALUSIA HEALTH   \n",
       "1  0001535611      ATHENS       1083     ATHENS LIMESTONE HOSPITAL   \n",
       "2  0000136502      ATMORE       1053     ATMORE COMMUNITY HOSPITAL   \n",
       "3  0000236124  MONTGOMERY       1101   BAPTIST MEDICAL CENTER EAST   \n",
       "4  0001736111  MONTGOMERY       1101  BAPTIST MEDICAL CENTER SOUTH   \n",
       "\n",
       "                                    address status  \\\n",
       "0  849 SOUTH THREE NOTCH STREET, PO BOX 760   OPEN   \n",
       "1                    700 WEST MARKET STREET   OPEN   \n",
       "2                       401 MEDICAL PARK DR   OPEN   \n",
       "3            400 TAYLOR ROAD, PO BOX 241267   OPEN   \n",
       "4   2105 EAST SOUTH BOULEVARD, PO BOX 11010   OPEN   \n",
       "\n",
       "                             owner  \n",
       "0                      PROPRIETARY  \n",
       "1                      PROPRIETARY  \n",
       "2                       NON-PROFIT  \n",
       "3  GOVERNMENT - DISTRICT/AUTHORITY  \n",
       "4  GOVERNMENT - DISTRICT/AUTHORITY  "
      ]
     },
     "execution_count": 107,
     "metadata": {},
     "output_type": "execute_result"
    }
   ],
   "source": [
    "final_df.head()"
   ]
  },
  {
   "cell_type": "code",
   "execution_count": 108,
   "metadata": {},
   "outputs": [
    {
     "data": {
      "text/html": [
       "<div>\n",
       "<style scoped>\n",
       "    .dataframe tbody tr th:only-of-type {\n",
       "        vertical-align: middle;\n",
       "    }\n",
       "\n",
       "    .dataframe tbody tr th {\n",
       "        vertical-align: top;\n",
       "    }\n",
       "\n",
       "    .dataframe thead th {\n",
       "        text-align: right;\n",
       "    }\n",
       "</style>\n",
       "<table border=\"1\" class=\"dataframe\">\n",
       "  <thead>\n",
       "    <tr style=\"text-align: right;\">\n",
       "      <th></th>\n",
       "      <th>Unnamed: 0</th>\n",
       "      <th>city_id</th>\n",
       "      <th>city_name</th>\n",
       "      <th>fips_code</th>\n",
       "    </tr>\n",
       "  </thead>\n",
       "  <tbody>\n",
       "    <tr>\n",
       "      <th>0</th>\n",
       "      <td>0</td>\n",
       "      <td>1840034016</td>\n",
       "      <td>New York</td>\n",
       "      <td>36081</td>\n",
       "    </tr>\n",
       "    <tr>\n",
       "      <th>1</th>\n",
       "      <td>1</td>\n",
       "      <td>1840020491</td>\n",
       "      <td>Los Angeles</td>\n",
       "      <td>6037</td>\n",
       "    </tr>\n",
       "    <tr>\n",
       "      <th>2</th>\n",
       "      <td>2</td>\n",
       "      <td>1840000494</td>\n",
       "      <td>Chicago</td>\n",
       "      <td>17031</td>\n",
       "    </tr>\n",
       "    <tr>\n",
       "      <th>3</th>\n",
       "      <td>3</td>\n",
       "      <td>1840015149</td>\n",
       "      <td>Miami</td>\n",
       "      <td>12086</td>\n",
       "    </tr>\n",
       "    <tr>\n",
       "      <th>4</th>\n",
       "      <td>4</td>\n",
       "      <td>1840020925</td>\n",
       "      <td>Houston</td>\n",
       "      <td>48201</td>\n",
       "    </tr>\n",
       "  </tbody>\n",
       "</table>\n",
       "</div>"
      ],
      "text/plain": [
       "   Unnamed: 0     city_id    city_name  fips_code\n",
       "0           0  1840034016     New York      36081\n",
       "1           1  1840020491  Los Angeles       6037\n",
       "2           2  1840000494      Chicago      17031\n",
       "3           3  1840015149        Miami      12086\n",
       "4           4  1840020925      Houston      48201"
      ]
     },
     "execution_count": 108,
     "metadata": {},
     "output_type": "execute_result"
    }
   ],
   "source": [
    "citydf = pd.read_csv('../Cleaned Data/cleaned_us_cities.csv')\n",
    "citydf.head()"
   ]
  },
  {
   "cell_type": "code",
   "execution_count": 109,
   "metadata": {},
   "outputs": [],
   "source": [
    "final_df['city_name'] = final_df['city_name'].str.lower()\n",
    "citydf['city_name'] = citydf['city_name'].str.lower()"
   ]
  },
  {
   "cell_type": "code",
   "execution_count": 110,
   "metadata": {},
   "outputs": [],
   "source": [
    "merged_df_final = final_df.merge(citydf, how='inner', on=['fips_code', 'city_name'])"
   ]
  },
  {
   "cell_type": "code",
   "execution_count": 111,
   "metadata": {},
   "outputs": [
    {
     "data": {
      "text/plain": [
       "(7251, 9)"
      ]
     },
     "execution_count": 111,
     "metadata": {},
     "output_type": "execute_result"
    }
   ],
   "source": [
    "merged_df_final.shape"
   ]
  },
  {
   "cell_type": "code",
   "execution_count": 113,
   "metadata": {},
   "outputs": [
    {
     "data": {
      "text/html": [
       "<div>\n",
       "<style scoped>\n",
       "    .dataframe tbody tr th:only-of-type {\n",
       "        vertical-align: middle;\n",
       "    }\n",
       "\n",
       "    .dataframe tbody tr th {\n",
       "        vertical-align: top;\n",
       "    }\n",
       "\n",
       "    .dataframe thead th {\n",
       "        text-align: right;\n",
       "    }\n",
       "</style>\n",
       "<table border=\"1\" class=\"dataframe\">\n",
       "  <thead>\n",
       "    <tr style=\"text-align: right;\">\n",
       "      <th></th>\n",
       "      <th>hospital_id</th>\n",
       "      <th>city_name</th>\n",
       "      <th>fips_code</th>\n",
       "      <th>name</th>\n",
       "      <th>address</th>\n",
       "      <th>status</th>\n",
       "      <th>owner</th>\n",
       "      <th>Unnamed: 0</th>\n",
       "      <th>city_id</th>\n",
       "    </tr>\n",
       "  </thead>\n",
       "  <tbody>\n",
       "    <tr>\n",
       "      <th>0</th>\n",
       "      <td>0001336420</td>\n",
       "      <td>andalusia</td>\n",
       "      <td>1039</td>\n",
       "      <td>ANDALUSIA HEALTH</td>\n",
       "      <td>849 SOUTH THREE NOTCH STREET, PO BOX 760</td>\n",
       "      <td>OPEN</td>\n",
       "      <td>PROPRIETARY</td>\n",
       "      <td>4475</td>\n",
       "      <td>1840004591</td>\n",
       "    </tr>\n",
       "    <tr>\n",
       "      <th>1</th>\n",
       "      <td>0001535611</td>\n",
       "      <td>athens</td>\n",
       "      <td>1083</td>\n",
       "      <td>ATHENS LIMESTONE HOSPITAL</td>\n",
       "      <td>700 WEST MARKET STREET</td>\n",
       "      <td>OPEN</td>\n",
       "      <td>PROPRIETARY</td>\n",
       "      <td>1721</td>\n",
       "      <td>1840000935</td>\n",
       "    </tr>\n",
       "    <tr>\n",
       "      <th>2</th>\n",
       "      <td>0000136502</td>\n",
       "      <td>atmore</td>\n",
       "      <td>1053</td>\n",
       "      <td>ATMORE COMMUNITY HOSPITAL</td>\n",
       "      <td>401 MEDICAL PARK DR</td>\n",
       "      <td>OPEN</td>\n",
       "      <td>NON-PROFIT</td>\n",
       "      <td>4615</td>\n",
       "      <td>1840013888</td>\n",
       "    </tr>\n",
       "    <tr>\n",
       "      <th>3</th>\n",
       "      <td>0000236124</td>\n",
       "      <td>montgomery</td>\n",
       "      <td>1101</td>\n",
       "      <td>BAPTIST MEDICAL CENTER EAST</td>\n",
       "      <td>400 TAYLOR ROAD, PO BOX 241267</td>\n",
       "      <td>OPEN</td>\n",
       "      <td>GOVERNMENT - DISTRICT/AUTHORITY</td>\n",
       "      <td>178</td>\n",
       "      <td>1840008353</td>\n",
       "    </tr>\n",
       "    <tr>\n",
       "      <th>4</th>\n",
       "      <td>0001736111</td>\n",
       "      <td>montgomery</td>\n",
       "      <td>1101</td>\n",
       "      <td>BAPTIST MEDICAL CENTER SOUTH</td>\n",
       "      <td>2105 EAST SOUTH BOULEVARD, PO BOX 11010</td>\n",
       "      <td>OPEN</td>\n",
       "      <td>GOVERNMENT - DISTRICT/AUTHORITY</td>\n",
       "      <td>178</td>\n",
       "      <td>1840008353</td>\n",
       "    </tr>\n",
       "  </tbody>\n",
       "</table>\n",
       "</div>"
      ],
      "text/plain": [
       "  hospital_id   city_name  fips_code                          name  \\\n",
       "0  0001336420   andalusia       1039              ANDALUSIA HEALTH   \n",
       "1  0001535611      athens       1083     ATHENS LIMESTONE HOSPITAL   \n",
       "2  0000136502      atmore       1053     ATMORE COMMUNITY HOSPITAL   \n",
       "3  0000236124  montgomery       1101   BAPTIST MEDICAL CENTER EAST   \n",
       "4  0001736111  montgomery       1101  BAPTIST MEDICAL CENTER SOUTH   \n",
       "\n",
       "                                    address status  \\\n",
       "0  849 SOUTH THREE NOTCH STREET, PO BOX 760   OPEN   \n",
       "1                    700 WEST MARKET STREET   OPEN   \n",
       "2                       401 MEDICAL PARK DR   OPEN   \n",
       "3            400 TAYLOR ROAD, PO BOX 241267   OPEN   \n",
       "4   2105 EAST SOUTH BOULEVARD, PO BOX 11010   OPEN   \n",
       "\n",
       "                             owner  Unnamed: 0     city_id  \n",
       "0                      PROPRIETARY        4475  1840004591  \n",
       "1                      PROPRIETARY        1721  1840000935  \n",
       "2                       NON-PROFIT        4615  1840013888  \n",
       "3  GOVERNMENT - DISTRICT/AUTHORITY         178  1840008353  \n",
       "4  GOVERNMENT - DISTRICT/AUTHORITY         178  1840008353  "
      ]
     },
     "execution_count": 113,
     "metadata": {},
     "output_type": "execute_result"
    }
   ],
   "source": [
    "merged_df_final.head()"
   ]
  },
  {
   "cell_type": "code",
   "execution_count": 114,
   "metadata": {},
   "outputs": [
    {
     "data": {
      "text/plain": [
       "Index(['hospital_id', 'city_name', 'fips_code', 'name', 'address', 'status',\n",
       "       'owner', 'Unnamed: 0', 'city_id'],\n",
       "      dtype='object')"
      ]
     },
     "execution_count": 114,
     "metadata": {},
     "output_type": "execute_result"
    }
   ],
   "source": [
    "merged_df_final.columns"
   ]
  },
  {
   "cell_type": "code",
   "execution_count": 115,
   "metadata": {},
   "outputs": [],
   "source": [
    "merged_df_final = merged_df_final.rename(columns={'owner': 'ownership_information'})\n",
    "merged_df_final = merged_df_final.drop(['fips_code', 'city_name', 'Unnamed: 0'], axis=1)"
   ]
  },
  {
   "cell_type": "code",
   "execution_count": 116,
   "metadata": {},
   "outputs": [
    {
     "data": {
      "text/html": [
       "<div>\n",
       "<style scoped>\n",
       "    .dataframe tbody tr th:only-of-type {\n",
       "        vertical-align: middle;\n",
       "    }\n",
       "\n",
       "    .dataframe tbody tr th {\n",
       "        vertical-align: top;\n",
       "    }\n",
       "\n",
       "    .dataframe thead th {\n",
       "        text-align: right;\n",
       "    }\n",
       "</style>\n",
       "<table border=\"1\" class=\"dataframe\">\n",
       "  <thead>\n",
       "    <tr style=\"text-align: right;\">\n",
       "      <th></th>\n",
       "      <th>hospital_id</th>\n",
       "      <th>name</th>\n",
       "      <th>address</th>\n",
       "      <th>status</th>\n",
       "      <th>ownership_information</th>\n",
       "      <th>city_id</th>\n",
       "    </tr>\n",
       "  </thead>\n",
       "  <tbody>\n",
       "    <tr>\n",
       "      <th>0</th>\n",
       "      <td>0001336420</td>\n",
       "      <td>ANDALUSIA HEALTH</td>\n",
       "      <td>849 SOUTH THREE NOTCH STREET, PO BOX 760</td>\n",
       "      <td>OPEN</td>\n",
       "      <td>PROPRIETARY</td>\n",
       "      <td>1840004591</td>\n",
       "    </tr>\n",
       "    <tr>\n",
       "      <th>1</th>\n",
       "      <td>0001535611</td>\n",
       "      <td>ATHENS LIMESTONE HOSPITAL</td>\n",
       "      <td>700 WEST MARKET STREET</td>\n",
       "      <td>OPEN</td>\n",
       "      <td>PROPRIETARY</td>\n",
       "      <td>1840000935</td>\n",
       "    </tr>\n",
       "    <tr>\n",
       "      <th>2</th>\n",
       "      <td>0000136502</td>\n",
       "      <td>ATMORE COMMUNITY HOSPITAL</td>\n",
       "      <td>401 MEDICAL PARK DR</td>\n",
       "      <td>OPEN</td>\n",
       "      <td>NON-PROFIT</td>\n",
       "      <td>1840013888</td>\n",
       "    </tr>\n",
       "    <tr>\n",
       "      <th>3</th>\n",
       "      <td>0000236124</td>\n",
       "      <td>BAPTIST MEDICAL CENTER EAST</td>\n",
       "      <td>400 TAYLOR ROAD, PO BOX 241267</td>\n",
       "      <td>OPEN</td>\n",
       "      <td>GOVERNMENT - DISTRICT/AUTHORITY</td>\n",
       "      <td>1840008353</td>\n",
       "    </tr>\n",
       "    <tr>\n",
       "      <th>4</th>\n",
       "      <td>0001736111</td>\n",
       "      <td>BAPTIST MEDICAL CENTER SOUTH</td>\n",
       "      <td>2105 EAST SOUTH BOULEVARD, PO BOX 11010</td>\n",
       "      <td>OPEN</td>\n",
       "      <td>GOVERNMENT - DISTRICT/AUTHORITY</td>\n",
       "      <td>1840008353</td>\n",
       "    </tr>\n",
       "  </tbody>\n",
       "</table>\n",
       "</div>"
      ],
      "text/plain": [
       "  hospital_id                          name  \\\n",
       "0  0001336420              ANDALUSIA HEALTH   \n",
       "1  0001535611     ATHENS LIMESTONE HOSPITAL   \n",
       "2  0000136502     ATMORE COMMUNITY HOSPITAL   \n",
       "3  0000236124   BAPTIST MEDICAL CENTER EAST   \n",
       "4  0001736111  BAPTIST MEDICAL CENTER SOUTH   \n",
       "\n",
       "                                    address status  \\\n",
       "0  849 SOUTH THREE NOTCH STREET, PO BOX 760   OPEN   \n",
       "1                    700 WEST MARKET STREET   OPEN   \n",
       "2                       401 MEDICAL PARK DR   OPEN   \n",
       "3            400 TAYLOR ROAD, PO BOX 241267   OPEN   \n",
       "4   2105 EAST SOUTH BOULEVARD, PO BOX 11010   OPEN   \n",
       "\n",
       "             ownership_information     city_id  \n",
       "0                      PROPRIETARY  1840004591  \n",
       "1                      PROPRIETARY  1840000935  \n",
       "2                       NON-PROFIT  1840013888  \n",
       "3  GOVERNMENT - DISTRICT/AUTHORITY  1840008353  \n",
       "4  GOVERNMENT - DISTRICT/AUTHORITY  1840008353  "
      ]
     },
     "execution_count": 116,
     "metadata": {},
     "output_type": "execute_result"
    }
   ],
   "source": [
    "merged_df_final.head()"
   ]
  },
  {
   "cell_type": "code",
   "execution_count": 117,
   "metadata": {},
   "outputs": [],
   "source": [
    "merged_df_final.to_csv('../Cleaned Data/cleaned_hospitals.csv')"
   ]
  }
 ],
 "metadata": {
  "kernelspec": {
   "display_name": "Python 3",
   "language": "python",
   "name": "python3"
  },
  "language_info": {
   "codemirror_mode": {
    "name": "ipython",
    "version": 3
   },
   "file_extension": ".py",
   "mimetype": "text/x-python",
   "name": "python",
   "nbconvert_exporter": "python",
   "pygments_lexer": "ipython3",
   "version": "3.12.4"
  }
 },
 "nbformat": 4,
 "nbformat_minor": 2
}
