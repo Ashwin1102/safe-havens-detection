{
 "cells": [
  {
   "cell_type": "code",
   "execution_count": 1,
   "metadata": {},
   "outputs": [],
   "source": [
    "import pandas as pd"
   ]
  },
  {
   "cell_type": "code",
   "execution_count": 2,
   "metadata": {},
   "outputs": [],
   "source": [
    "law_df = pd.read_csv('../Data/Local_Law_Enforcement_Locations_4678158797704337440.csv')"
   ]
  },
  {
   "cell_type": "code",
   "execution_count": 3,
   "metadata": {},
   "outputs": [
    {
     "data": {
      "text/html": [
       "<div>\n",
       "<style scoped>\n",
       "    .dataframe tbody tr th:only-of-type {\n",
       "        vertical-align: middle;\n",
       "    }\n",
       "\n",
       "    .dataframe tbody tr th {\n",
       "        vertical-align: top;\n",
       "    }\n",
       "\n",
       "    .dataframe thead th {\n",
       "        text-align: right;\n",
       "    }\n",
       "</style>\n",
       "<table border=\"1\" class=\"dataframe\">\n",
       "  <thead>\n",
       "    <tr style=\"text-align: right;\">\n",
       "      <th></th>\n",
       "      <th>OBJECTID</th>\n",
       "      <th>ID</th>\n",
       "      <th>NAME</th>\n",
       "      <th>ADDRESS</th>\n",
       "      <th>CITY</th>\n",
       "      <th>STATE</th>\n",
       "      <th>ZIP</th>\n",
       "      <th>ZIP4</th>\n",
       "      <th>TELEPHONE</th>\n",
       "      <th>TYPE</th>\n",
       "      <th>...</th>\n",
       "      <th>TRIBAL</th>\n",
       "      <th>NUMPRE</th>\n",
       "      <th>NUMFIXSUB</th>\n",
       "      <th>NUMMOBILE</th>\n",
       "      <th>FTSWORN</th>\n",
       "      <th>FTCIV</th>\n",
       "      <th>PTSWORN</th>\n",
       "      <th>PTCIV</th>\n",
       "      <th>x</th>\n",
       "      <th>y</th>\n",
       "    </tr>\n",
       "  </thead>\n",
       "  <tbody>\n",
       "    <tr>\n",
       "      <th>0</th>\n",
       "      <td>1</td>\n",
       "      <td>1004101</td>\n",
       "      <td>HIRAM POLICE DEPARTMENT</td>\n",
       "      <td>217 MAIN STREET</td>\n",
       "      <td>HIRAM</td>\n",
       "      <td>GA</td>\n",
       "      <td>30141</td>\n",
       "      <td>3249</td>\n",
       "      <td>(770) 943-3726</td>\n",
       "      <td>LOCAL POLICE DEPARTMENT</td>\n",
       "      <td>...</td>\n",
       "      <td>0</td>\n",
       "      <td>0</td>\n",
       "      <td>0</td>\n",
       "      <td>0</td>\n",
       "      <td>15</td>\n",
       "      <td>2</td>\n",
       "      <td>0</td>\n",
       "      <td>0</td>\n",
       "      <td>-9.435540e+06</td>\n",
       "      <td>4.012135e+06</td>\n",
       "    </tr>\n",
       "    <tr>\n",
       "      <th>1</th>\n",
       "      <td>2</td>\n",
       "      <td>1004058</td>\n",
       "      <td>GLENNVILLE POLICE DEPARTMENT</td>\n",
       "      <td>201 SOUTH CHURCH STREET</td>\n",
       "      <td>GLENNVILLE</td>\n",
       "      <td>GA</td>\n",
       "      <td>30427</td>\n",
       "      <td>1509</td>\n",
       "      <td>(912) 654-2103</td>\n",
       "      <td>LOCAL POLICE DEPARTMENT</td>\n",
       "      <td>...</td>\n",
       "      <td>0</td>\n",
       "      <td>0</td>\n",
       "      <td>0</td>\n",
       "      <td>0</td>\n",
       "      <td>8</td>\n",
       "      <td>5</td>\n",
       "      <td>3</td>\n",
       "      <td>2</td>\n",
       "      <td>-9.120461e+06</td>\n",
       "      <td>3.754819e+06</td>\n",
       "    </tr>\n",
       "    <tr>\n",
       "      <th>2</th>\n",
       "      <td>3</td>\n",
       "      <td>1008255</td>\n",
       "      <td>SIMMESPORT POLICE DEPARTMENT</td>\n",
       "      <td>372 MISSION DRIVE</td>\n",
       "      <td>SIMMESPORT</td>\n",
       "      <td>LA</td>\n",
       "      <td>71369</td>\n",
       "      <td>2000</td>\n",
       "      <td>(318) 941-2576</td>\n",
       "      <td>LOCAL POLICE DEPARTMENT</td>\n",
       "      <td>...</td>\n",
       "      <td>0</td>\n",
       "      <td>0</td>\n",
       "      <td>0</td>\n",
       "      <td>0</td>\n",
       "      <td>7</td>\n",
       "      <td>0</td>\n",
       "      <td>3</td>\n",
       "      <td>0</td>\n",
       "      <td>-1.022031e+07</td>\n",
       "      <td>3.630996e+06</td>\n",
       "    </tr>\n",
       "    <tr>\n",
       "      <th>3</th>\n",
       "      <td>4</td>\n",
       "      <td>1007969</td>\n",
       "      <td>DUBBERLY POLICE DEPARTMENT</td>\n",
       "      <td>1748 BRUSHWOOD DRIVE</td>\n",
       "      <td>DUBBERLY</td>\n",
       "      <td>LA</td>\n",
       "      <td>71024</td>\n",
       "      <td>2578</td>\n",
       "      <td>(318) 371-1020</td>\n",
       "      <td>LOCAL POLICE DEPARTMENT</td>\n",
       "      <td>...</td>\n",
       "      <td>0</td>\n",
       "      <td>0</td>\n",
       "      <td>0</td>\n",
       "      <td>0</td>\n",
       "      <td>1</td>\n",
       "      <td>0</td>\n",
       "      <td>0</td>\n",
       "      <td>0</td>\n",
       "      <td>-1.037930e+07</td>\n",
       "      <td>3.834564e+06</td>\n",
       "    </tr>\n",
       "    <tr>\n",
       "      <th>4</th>\n",
       "      <td>5</td>\n",
       "      <td>1009889</td>\n",
       "      <td>SEBEWAING POLICE DEPARTMENT</td>\n",
       "      <td>125 WEST MAIN STREET</td>\n",
       "      <td>SEBEWAING</td>\n",
       "      <td>MI</td>\n",
       "      <td>48759</td>\n",
       "      <td>1326</td>\n",
       "      <td>(989) 883-2380</td>\n",
       "      <td>LOCAL POLICE DEPARTMENT</td>\n",
       "      <td>...</td>\n",
       "      <td>0</td>\n",
       "      <td>0</td>\n",
       "      <td>0</td>\n",
       "      <td>0</td>\n",
       "      <td>3</td>\n",
       "      <td>0</td>\n",
       "      <td>14</td>\n",
       "      <td>0</td>\n",
       "      <td>-9.289976e+06</td>\n",
       "      <td>5.424068e+06</td>\n",
       "    </tr>\n",
       "  </tbody>\n",
       "</table>\n",
       "<p>5 rows × 38 columns</p>\n",
       "</div>"
      ],
      "text/plain": [
       "   OBJECTID       ID                          NAME                  ADDRESS  \\\n",
       "0         1  1004101       HIRAM POLICE DEPARTMENT          217 MAIN STREET   \n",
       "1         2  1004058  GLENNVILLE POLICE DEPARTMENT  201 SOUTH CHURCH STREET   \n",
       "2         3  1008255  SIMMESPORT POLICE DEPARTMENT        372 MISSION DRIVE   \n",
       "3         4  1007969    DUBBERLY POLICE DEPARTMENT     1748 BRUSHWOOD DRIVE   \n",
       "4         5  1009889   SEBEWAING POLICE DEPARTMENT     125 WEST MAIN STREET   \n",
       "\n",
       "         CITY STATE    ZIP  ZIP4       TELEPHONE                     TYPE  \\\n",
       "0       HIRAM    GA  30141  3249  (770) 943-3726  LOCAL POLICE DEPARTMENT   \n",
       "1  GLENNVILLE    GA  30427  1509  (912) 654-2103  LOCAL POLICE DEPARTMENT   \n",
       "2  SIMMESPORT    LA  71369  2000  (318) 941-2576  LOCAL POLICE DEPARTMENT   \n",
       "3    DUBBERLY    LA  71024  2578  (318) 371-1020  LOCAL POLICE DEPARTMENT   \n",
       "4   SEBEWAING    MI  48759  1326  (989) 883-2380  LOCAL POLICE DEPARTMENT   \n",
       "\n",
       "   ... TRIBAL  NUMPRE NUMFIXSUB  NUMMOBILE FTSWORN  FTCIV  PTSWORN  PTCIV  \\\n",
       "0  ...      0       0         0          0      15      2        0      0   \n",
       "1  ...      0       0         0          0       8      5        3      2   \n",
       "2  ...      0       0         0          0       7      0        3      0   \n",
       "3  ...      0       0         0          0       1      0        0      0   \n",
       "4  ...      0       0         0          0       3      0       14      0   \n",
       "\n",
       "              x             y  \n",
       "0 -9.435540e+06  4.012135e+06  \n",
       "1 -9.120461e+06  3.754819e+06  \n",
       "2 -1.022031e+07  3.630996e+06  \n",
       "3 -1.037930e+07  3.834564e+06  \n",
       "4 -9.289976e+06  5.424068e+06  \n",
       "\n",
       "[5 rows x 38 columns]"
      ]
     },
     "execution_count": 3,
     "metadata": {},
     "output_type": "execute_result"
    }
   ],
   "source": [
    "law_df.head()"
   ]
  },
  {
   "cell_type": "code",
   "execution_count": 4,
   "metadata": {},
   "outputs": [
    {
     "data": {
      "text/plain": [
       "Index(['OBJECTID', 'ID', 'NAME', 'ADDRESS', 'CITY', 'STATE', 'ZIP', 'ZIP4',\n",
       "       'TELEPHONE', 'TYPE', 'STATUS', 'POPULATION', 'COUNTY', 'COUNTYFIPS',\n",
       "       'COUNTRY', 'LATITUDE', 'LONGITUDE', 'NAICS_CODE', 'NAICS_DESC',\n",
       "       'SOURCE', 'SOURCEDATE', 'VAL_METHOD', 'VAL_DATE', 'WEBSITE', 'CI_ID',\n",
       "       'CSLLEA08ID', 'SUBTYPE1', 'SUBTYPE2', 'TRIBAL', 'NUMPRE', 'NUMFIXSUB',\n",
       "       'NUMMOBILE', 'FTSWORN', 'FTCIV', 'PTSWORN', 'PTCIV', 'x', 'y'],\n",
       "      dtype='object')"
      ]
     },
     "execution_count": 4,
     "metadata": {},
     "output_type": "execute_result"
    }
   ],
   "source": [
    "law_df.columns"
   ]
  },
  {
   "cell_type": "code",
   "execution_count": 5,
   "metadata": {},
   "outputs": [
    {
     "data": {
      "text/plain": [
       "(23486, 38)"
      ]
     },
     "execution_count": 5,
     "metadata": {},
     "output_type": "execute_result"
    }
   ],
   "source": [
    "law_df.shape"
   ]
  },
  {
   "cell_type": "code",
   "execution_count": 6,
   "metadata": {},
   "outputs": [],
   "source": [
    "final_df = law_df[['ID', 'NAME', 'ADDRESS', 'CITY', 'COUNTYFIPS', 'TYPE']]"
   ]
  },
  {
   "cell_type": "code",
   "execution_count": 7,
   "metadata": {},
   "outputs": [],
   "source": [
    "final_df.columns = ['local_law_id', 'name', 'address', 'city_name', 'fips_code','type_of_law_enforcement']"
   ]
  },
  {
   "cell_type": "code",
   "execution_count": 8,
   "metadata": {},
   "outputs": [
    {
     "data": {
      "text/html": [
       "<div>\n",
       "<style scoped>\n",
       "    .dataframe tbody tr th:only-of-type {\n",
       "        vertical-align: middle;\n",
       "    }\n",
       "\n",
       "    .dataframe tbody tr th {\n",
       "        vertical-align: top;\n",
       "    }\n",
       "\n",
       "    .dataframe thead th {\n",
       "        text-align: right;\n",
       "    }\n",
       "</style>\n",
       "<table border=\"1\" class=\"dataframe\">\n",
       "  <thead>\n",
       "    <tr style=\"text-align: right;\">\n",
       "      <th></th>\n",
       "      <th>local_law_id</th>\n",
       "      <th>name</th>\n",
       "      <th>address</th>\n",
       "      <th>city_name</th>\n",
       "      <th>fips_code</th>\n",
       "      <th>type_of_law_enforcement</th>\n",
       "    </tr>\n",
       "  </thead>\n",
       "  <tbody>\n",
       "    <tr>\n",
       "      <th>0</th>\n",
       "      <td>1004101</td>\n",
       "      <td>HIRAM POLICE DEPARTMENT</td>\n",
       "      <td>217 MAIN STREET</td>\n",
       "      <td>HIRAM</td>\n",
       "      <td>13223</td>\n",
       "      <td>LOCAL POLICE DEPARTMENT</td>\n",
       "    </tr>\n",
       "    <tr>\n",
       "      <th>1</th>\n",
       "      <td>1004058</td>\n",
       "      <td>GLENNVILLE POLICE DEPARTMENT</td>\n",
       "      <td>201 SOUTH CHURCH STREET</td>\n",
       "      <td>GLENNVILLE</td>\n",
       "      <td>13267</td>\n",
       "      <td>LOCAL POLICE DEPARTMENT</td>\n",
       "    </tr>\n",
       "    <tr>\n",
       "      <th>2</th>\n",
       "      <td>1008255</td>\n",
       "      <td>SIMMESPORT POLICE DEPARTMENT</td>\n",
       "      <td>372 MISSION DRIVE</td>\n",
       "      <td>SIMMESPORT</td>\n",
       "      <td>22009</td>\n",
       "      <td>LOCAL POLICE DEPARTMENT</td>\n",
       "    </tr>\n",
       "    <tr>\n",
       "      <th>3</th>\n",
       "      <td>1007969</td>\n",
       "      <td>DUBBERLY POLICE DEPARTMENT</td>\n",
       "      <td>1748 BRUSHWOOD DRIVE</td>\n",
       "      <td>DUBBERLY</td>\n",
       "      <td>22119</td>\n",
       "      <td>LOCAL POLICE DEPARTMENT</td>\n",
       "    </tr>\n",
       "    <tr>\n",
       "      <th>4</th>\n",
       "      <td>1009889</td>\n",
       "      <td>SEBEWAING POLICE DEPARTMENT</td>\n",
       "      <td>125 WEST MAIN STREET</td>\n",
       "      <td>SEBEWAING</td>\n",
       "      <td>26063</td>\n",
       "      <td>LOCAL POLICE DEPARTMENT</td>\n",
       "    </tr>\n",
       "  </tbody>\n",
       "</table>\n",
       "</div>"
      ],
      "text/plain": [
       "   local_law_id                          name                  address  \\\n",
       "0       1004101       HIRAM POLICE DEPARTMENT          217 MAIN STREET   \n",
       "1       1004058  GLENNVILLE POLICE DEPARTMENT  201 SOUTH CHURCH STREET   \n",
       "2       1008255  SIMMESPORT POLICE DEPARTMENT        372 MISSION DRIVE   \n",
       "3       1007969    DUBBERLY POLICE DEPARTMENT     1748 BRUSHWOOD DRIVE   \n",
       "4       1009889   SEBEWAING POLICE DEPARTMENT     125 WEST MAIN STREET   \n",
       "\n",
       "    city_name  fips_code  type_of_law_enforcement  \n",
       "0       HIRAM      13223  LOCAL POLICE DEPARTMENT  \n",
       "1  GLENNVILLE      13267  LOCAL POLICE DEPARTMENT  \n",
       "2  SIMMESPORT      22009  LOCAL POLICE DEPARTMENT  \n",
       "3    DUBBERLY      22119  LOCAL POLICE DEPARTMENT  \n",
       "4   SEBEWAING      26063  LOCAL POLICE DEPARTMENT  "
      ]
     },
     "execution_count": 8,
     "metadata": {},
     "output_type": "execute_result"
    }
   ],
   "source": [
    "final_df.head()"
   ]
  },
  {
   "cell_type": "code",
   "execution_count": 9,
   "metadata": {},
   "outputs": [],
   "source": [
    "city_df = pd.read_csv('../Cleaned Data/cleaned_us_cities.csv')\n",
    "county_df = pd.read_csv('../Cleaned Data/cleaned_us_counties.csv')"
   ]
  },
  {
   "cell_type": "code",
   "execution_count": 10,
   "metadata": {},
   "outputs": [],
   "source": [
    "merged_df = final_df.merge(county_df, left_on='fips_code', right_on='fips_code', how='inner')"
   ]
  },
  {
   "cell_type": "code",
   "execution_count": 11,
   "metadata": {},
   "outputs": [
    {
     "data": {
      "text/plain": [
       "(23252, 9)"
      ]
     },
     "execution_count": 11,
     "metadata": {},
     "output_type": "execute_result"
    }
   ],
   "source": [
    "merged_df.shape"
   ]
  },
  {
   "cell_type": "code",
   "execution_count": 12,
   "metadata": {},
   "outputs": [
    {
     "data": {
      "text/html": [
       "<div>\n",
       "<style scoped>\n",
       "    .dataframe tbody tr th:only-of-type {\n",
       "        vertical-align: middle;\n",
       "    }\n",
       "\n",
       "    .dataframe tbody tr th {\n",
       "        vertical-align: top;\n",
       "    }\n",
       "\n",
       "    .dataframe thead th {\n",
       "        text-align: right;\n",
       "    }\n",
       "</style>\n",
       "<table border=\"1\" class=\"dataframe\">\n",
       "  <thead>\n",
       "    <tr style=\"text-align: right;\">\n",
       "      <th></th>\n",
       "      <th>local_law_id</th>\n",
       "      <th>name</th>\n",
       "      <th>address</th>\n",
       "      <th>city_name</th>\n",
       "      <th>fips_code</th>\n",
       "      <th>type_of_law_enforcement</th>\n",
       "      <th>state_id</th>\n",
       "      <th>county_name</th>\n",
       "      <th>state_name</th>\n",
       "    </tr>\n",
       "  </thead>\n",
       "  <tbody>\n",
       "    <tr>\n",
       "      <th>0</th>\n",
       "      <td>1004101</td>\n",
       "      <td>HIRAM POLICE DEPARTMENT</td>\n",
       "      <td>217 MAIN STREET</td>\n",
       "      <td>HIRAM</td>\n",
       "      <td>13223</td>\n",
       "      <td>LOCAL POLICE DEPARTMENT</td>\n",
       "      <td>GA</td>\n",
       "      <td>Paulding</td>\n",
       "      <td>Georgia</td>\n",
       "    </tr>\n",
       "    <tr>\n",
       "      <th>1</th>\n",
       "      <td>1004058</td>\n",
       "      <td>GLENNVILLE POLICE DEPARTMENT</td>\n",
       "      <td>201 SOUTH CHURCH STREET</td>\n",
       "      <td>GLENNVILLE</td>\n",
       "      <td>13267</td>\n",
       "      <td>LOCAL POLICE DEPARTMENT</td>\n",
       "      <td>GA</td>\n",
       "      <td>Tattnall</td>\n",
       "      <td>Georgia</td>\n",
       "    </tr>\n",
       "    <tr>\n",
       "      <th>2</th>\n",
       "      <td>1008255</td>\n",
       "      <td>SIMMESPORT POLICE DEPARTMENT</td>\n",
       "      <td>372 MISSION DRIVE</td>\n",
       "      <td>SIMMESPORT</td>\n",
       "      <td>22009</td>\n",
       "      <td>LOCAL POLICE DEPARTMENT</td>\n",
       "      <td>LA</td>\n",
       "      <td>Avoyelles</td>\n",
       "      <td>Louisiana</td>\n",
       "    </tr>\n",
       "    <tr>\n",
       "      <th>3</th>\n",
       "      <td>1007969</td>\n",
       "      <td>DUBBERLY POLICE DEPARTMENT</td>\n",
       "      <td>1748 BRUSHWOOD DRIVE</td>\n",
       "      <td>DUBBERLY</td>\n",
       "      <td>22119</td>\n",
       "      <td>LOCAL POLICE DEPARTMENT</td>\n",
       "      <td>LA</td>\n",
       "      <td>Webster</td>\n",
       "      <td>Louisiana</td>\n",
       "    </tr>\n",
       "    <tr>\n",
       "      <th>4</th>\n",
       "      <td>1009889</td>\n",
       "      <td>SEBEWAING POLICE DEPARTMENT</td>\n",
       "      <td>125 WEST MAIN STREET</td>\n",
       "      <td>SEBEWAING</td>\n",
       "      <td>26063</td>\n",
       "      <td>LOCAL POLICE DEPARTMENT</td>\n",
       "      <td>MI</td>\n",
       "      <td>Huron</td>\n",
       "      <td>Michigan</td>\n",
       "    </tr>\n",
       "  </tbody>\n",
       "</table>\n",
       "</div>"
      ],
      "text/plain": [
       "   local_law_id                          name                  address  \\\n",
       "0       1004101       HIRAM POLICE DEPARTMENT          217 MAIN STREET   \n",
       "1       1004058  GLENNVILLE POLICE DEPARTMENT  201 SOUTH CHURCH STREET   \n",
       "2       1008255  SIMMESPORT POLICE DEPARTMENT        372 MISSION DRIVE   \n",
       "3       1007969    DUBBERLY POLICE DEPARTMENT     1748 BRUSHWOOD DRIVE   \n",
       "4       1009889   SEBEWAING POLICE DEPARTMENT     125 WEST MAIN STREET   \n",
       "\n",
       "    city_name  fips_code  type_of_law_enforcement state_id county_name  \\\n",
       "0       HIRAM      13223  LOCAL POLICE DEPARTMENT       GA    Paulding   \n",
       "1  GLENNVILLE      13267  LOCAL POLICE DEPARTMENT       GA    Tattnall   \n",
       "2  SIMMESPORT      22009  LOCAL POLICE DEPARTMENT       LA   Avoyelles   \n",
       "3    DUBBERLY      22119  LOCAL POLICE DEPARTMENT       LA     Webster   \n",
       "4   SEBEWAING      26063  LOCAL POLICE DEPARTMENT       MI       Huron   \n",
       "\n",
       "  state_name  \n",
       "0    Georgia  \n",
       "1    Georgia  \n",
       "2  Louisiana  \n",
       "3  Louisiana  \n",
       "4   Michigan  "
      ]
     },
     "execution_count": 12,
     "metadata": {},
     "output_type": "execute_result"
    }
   ],
   "source": [
    "merged_df.head()"
   ]
  },
  {
   "cell_type": "code",
   "execution_count": 13,
   "metadata": {},
   "outputs": [],
   "source": [
    "city_df['city_name'] = city_df['city_name'].str.lower()\n",
    "merged_df['city_name'] = merged_df['city_name'].str.lower()"
   ]
  },
  {
   "cell_type": "code",
   "execution_count": 14,
   "metadata": {},
   "outputs": [],
   "source": [
    "merged_df_final = merged_df.merge(city_df, how='inner', on=['fips_code', 'city_name'])\n"
   ]
  },
  {
   "cell_type": "code",
   "execution_count": 15,
   "metadata": {},
   "outputs": [
    {
     "data": {
      "text/plain": [
       "(20666, 10)"
      ]
     },
     "execution_count": 15,
     "metadata": {},
     "output_type": "execute_result"
    }
   ],
   "source": [
    "merged_df_final.shape"
   ]
  },
  {
   "cell_type": "code",
   "execution_count": 16,
   "metadata": {},
   "outputs": [],
   "source": [
    "merged_df_final = merged_df_final[['local_law_id', 'name', 'address', 'type_of_law_enforcement', 'city_id']]"
   ]
  },
  {
   "cell_type": "code",
   "execution_count": 17,
   "metadata": {},
   "outputs": [
    {
     "data": {
      "text/html": [
       "<div>\n",
       "<style scoped>\n",
       "    .dataframe tbody tr th:only-of-type {\n",
       "        vertical-align: middle;\n",
       "    }\n",
       "\n",
       "    .dataframe tbody tr th {\n",
       "        vertical-align: top;\n",
       "    }\n",
       "\n",
       "    .dataframe thead th {\n",
       "        text-align: right;\n",
       "    }\n",
       "</style>\n",
       "<table border=\"1\" class=\"dataframe\">\n",
       "  <thead>\n",
       "    <tr style=\"text-align: right;\">\n",
       "      <th></th>\n",
       "      <th>local_law_id</th>\n",
       "      <th>name</th>\n",
       "      <th>address</th>\n",
       "      <th>type_of_law_enforcement</th>\n",
       "      <th>city_id</th>\n",
       "    </tr>\n",
       "  </thead>\n",
       "  <tbody>\n",
       "    <tr>\n",
       "      <th>0</th>\n",
       "      <td>1004101</td>\n",
       "      <td>HIRAM POLICE DEPARTMENT</td>\n",
       "      <td>217 MAIN STREET</td>\n",
       "      <td>LOCAL POLICE DEPARTMENT</td>\n",
       "      <td>1840014758</td>\n",
       "    </tr>\n",
       "    <tr>\n",
       "      <th>1</th>\n",
       "      <td>1004058</td>\n",
       "      <td>GLENNVILLE POLICE DEPARTMENT</td>\n",
       "      <td>201 SOUTH CHURCH STREET</td>\n",
       "      <td>LOCAL POLICE DEPARTMENT</td>\n",
       "      <td>1840013832</td>\n",
       "    </tr>\n",
       "    <tr>\n",
       "      <th>2</th>\n",
       "      <td>1008255</td>\n",
       "      <td>SIMMESPORT POLICE DEPARTMENT</td>\n",
       "      <td>372 MISSION DRIVE</td>\n",
       "      <td>LOCAL POLICE DEPARTMENT</td>\n",
       "      <td>1840018188</td>\n",
       "    </tr>\n",
       "    <tr>\n",
       "      <th>3</th>\n",
       "      <td>1007969</td>\n",
       "      <td>DUBBERLY POLICE DEPARTMENT</td>\n",
       "      <td>1748 BRUSHWOOD DRIVE</td>\n",
       "      <td>LOCAL POLICE DEPARTMENT</td>\n",
       "      <td>1840018064</td>\n",
       "    </tr>\n",
       "    <tr>\n",
       "      <th>4</th>\n",
       "      <td>1009889</td>\n",
       "      <td>SEBEWAING POLICE DEPARTMENT</td>\n",
       "      <td>125 WEST MAIN STREET</td>\n",
       "      <td>LOCAL POLICE DEPARTMENT</td>\n",
       "      <td>1840013153</td>\n",
       "    </tr>\n",
       "  </tbody>\n",
       "</table>\n",
       "</div>"
      ],
      "text/plain": [
       "   local_law_id                          name                  address  \\\n",
       "0       1004101       HIRAM POLICE DEPARTMENT          217 MAIN STREET   \n",
       "1       1004058  GLENNVILLE POLICE DEPARTMENT  201 SOUTH CHURCH STREET   \n",
       "2       1008255  SIMMESPORT POLICE DEPARTMENT        372 MISSION DRIVE   \n",
       "3       1007969    DUBBERLY POLICE DEPARTMENT     1748 BRUSHWOOD DRIVE   \n",
       "4       1009889   SEBEWAING POLICE DEPARTMENT     125 WEST MAIN STREET   \n",
       "\n",
       "   type_of_law_enforcement     city_id  \n",
       "0  LOCAL POLICE DEPARTMENT  1840014758  \n",
       "1  LOCAL POLICE DEPARTMENT  1840013832  \n",
       "2  LOCAL POLICE DEPARTMENT  1840018188  \n",
       "3  LOCAL POLICE DEPARTMENT  1840018064  \n",
       "4  LOCAL POLICE DEPARTMENT  1840013153  "
      ]
     },
     "execution_count": 17,
     "metadata": {},
     "output_type": "execute_result"
    }
   ],
   "source": [
    "merged_df_final.head()"
   ]
  },
  {
   "cell_type": "code",
   "execution_count": 18,
   "metadata": {},
   "outputs": [],
   "source": [
    "merged_df_final.to_csv('../Cleaned Data/cleaned_law_enforcement.csv', index=False)"
   ]
  },
  {
   "cell_type": "code",
   "execution_count": null,
   "metadata": {},
   "outputs": [],
   "source": []
  }
 ],
 "metadata": {
  "kernelspec": {
   "display_name": "Python 3",
   "language": "python",
   "name": "python3"
  },
  "language_info": {
   "codemirror_mode": {
    "name": "ipython",
    "version": 3
   },
   "file_extension": ".py",
   "mimetype": "text/x-python",
   "name": "python",
   "nbconvert_exporter": "python",
   "pygments_lexer": "ipython3",
   "version": "3.12.4"
  }
 },
 "nbformat": 4,
 "nbformat_minor": 2
}
