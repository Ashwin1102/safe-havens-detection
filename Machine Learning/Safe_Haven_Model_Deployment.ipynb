{
 "cells": [
  {
   "cell_type": "code",
   "execution_count": 1,
   "metadata": {
    "id": "kpVpHIAShkDL"
   },
   "outputs": [],
   "source": [
    "# Imports\n",
    "import pandas as pd\n",
    "import numpy as np\n",
    "import matplotlib.pyplot as plt\n",
    "import seaborn as sns\n",
    "\n",
    "# Sklearn modules\n",
    "from sklearn.metrics import (\n",
    "    mean_squared_error,\n",
    "    mean_absolute_error,\n",
    "    r2_score,\n",
    "    classification_report,\n",
    "    confusion_matrix,\n",
    "    accuracy_score,\n",
    "    roc_auc_score,\n",
    "    roc_curve\n",
    ")\n",
    "\n",
    "# For model loading and saving\n",
    "import joblib\n",
    "\n",
    "# For interactive user input\n",
    "from IPython.display import display\n",
    "\n",
    "# Visualization settings\n",
    "sns.set(style='whitegrid')\n",
    "%matplotlib inline\n",
    "\n",
    "# Suppress warnings\n",
    "import warnings\n",
    "warnings.filterwarnings('ignore')"
   ]
  },
  {
   "cell_type": "markdown",
   "metadata": {
    "id": "n0SBls9ukrFc"
   },
   "source": [
    "# Load model"
   ]
  },
  {
   "cell_type": "code",
   "execution_count": 2,
   "metadata": {
    "colab": {
     "base_uri": "https://localhost:8080/"
    },
    "id": "zzBV62kNh7kE",
    "outputId": "383ec239-7fa2-453d-85a1-57da799baeeb"
   },
   "outputs": [
    {
     "name": "stdout",
     "output_type": "stream",
     "text": [
      "Median Crime Rate (Threshold) in Original Scale: 176.4591\n"
     ]
    }
   ],
   "source": [
    "# Load the scaler and the best model\n",
    "scaler_X = joblib.load('scaler_X.joblib')\n",
    "best_rf = joblib.load('best_random_forest_model.joblib')  # Ensure this is the correct model file name\n",
    "\n",
    "# Load the training data to retrieve the median crime rate in the original scale\n",
    "preprocessed_train = pd.read_csv('../Data/preprocessed_train.csv')\n",
    "\n",
    "# Since the target variable is log-transformed, we need to inverse transform it to get the median in the original scale\n",
    "original_crime_rates = np.expm1(preprocessed_train['crime_rate_per_100000'])\n",
    "crime_rate_median_original = original_crime_rates.median()\n",
    "print(f\"Median Crime Rate (Threshold) in Original Scale: {crime_rate_median_original:.4f}\")"
   ]
  },
  {
   "cell_type": "markdown",
   "metadata": {
    "id": "DqOitWdSlEsZ"
   },
   "source": [
    "# Prediction Function"
   ]
  },
  {
   "cell_type": "code",
   "execution_count": 3,
   "metadata": {
    "id": "P3Ee5BHUlDJ-"
   },
   "outputs": [],
   "source": [
    "def predict_safety(input_data):\n",
    "    \"\"\"\n",
    "    Predict the safety level for new input data.\n",
    "\n",
    "    Parameters:\n",
    "    - input_data: DataFrame containing the same features used in training.\n",
    "\n",
    "    Returns:\n",
    "    - DataFrame with predicted crime rates and safety levels.\n",
    "    \"\"\"\n",
    "    # Ensure the features are in the correct order\n",
    "    required_columns = [\n",
    "        'murder', 'rape', 'robbery', 'burglary',\n",
    "        'unemployment_rate_2022', 'population_estimate_2022',\n",
    "        'poverty_index', 'education_improvement'\n",
    "    ]\n",
    "\n",
    "    input_data = input_data[required_columns]\n",
    "\n",
    "    # Apply log1p transformation to skewed features (as done in preprocessing)\n",
    "    skewed_features = [\n",
    "        'murder', 'rape', 'robbery', 'burglary',\n",
    "        'unemployment_rate_2022', 'population_estimate_2022'\n",
    "    ]\n",
    "    for feature in skewed_features:\n",
    "        input_data[feature] = np.log1p(input_data[feature])\n",
    "\n",
    "    # Apply the scaler\n",
    "    input_data_scaled = scaler_X.transform(input_data)\n",
    "\n",
    "    # Predict crime rates in log-transformed space\n",
    "    predicted_crime_rates_log = best_rf.predict(input_data_scaled)\n",
    "\n",
    "    # Inverse transform to get crime rates in original scale\n",
    "    predicted_crime_rates = np.expm1(predicted_crime_rates_log)\n",
    "\n",
    "    # Classify safety levels using the median in original scale\n",
    "    safety_levels = ['Safe' if rate <= crime_rate_median_original else 'High-Risk' for rate in predicted_crime_rates]\n",
    "\n",
    "    # Prepare the results DataFrame\n",
    "    results = input_data.copy()\n",
    "    results['Predicted_Crime_Rate'] = predicted_crime_rates\n",
    "    results['Safety_Level'] = safety_levels\n",
    "\n",
    "    return results"
   ]
  },
  {
   "cell_type": "code",
   "execution_count": 5,
   "metadata": {
    "colab": {
     "base_uri": "https://localhost:8080/"
    },
    "id": "iFksShEPoqYV",
    "outputId": "4ae0ef79-dc5d-45f1-f06d-9ce2bb926385"
   },
   "outputs": [
    {
     "name": "stdout",
     "output_type": "stream",
     "text": [
      "Please enter the following details:\n"
     ]
    }
   ],
   "source": [
    "# Function to collect user input\n",
    "def user_input_features():\n",
    "    print(\"Please enter the following details:\")\n",
    "\n",
    "    murder = float(input(\"Number of murders: \"))\n",
    "    rape = float(input(\"Number of rapes: \"))\n",
    "    robbery = float(input(\"Number of robberies: \"))\n",
    "    burglary = float(input(\"Number of burglaries: \"))\n",
    "    unemployment_rate_2022 = float(input(\"Unemployment rate in 2022 (%): \"))\n",
    "    population_estimate_2022 = int(input(\"Population estimate in 2022: \"))\n",
    "    poverty_index = float(input(\"Poverty index (sum of poverty percentages): \"))\n",
    "    education_improvement = float(input(\"Education improvement (difference in no HS degree percentages): \"))\n",
    "\n",
    "    # Create a DataFrame with the input\n",
    "    input_data = pd.DataFrame({\n",
    "        'murder': [murder],\n",
    "        'rape': [rape],\n",
    "        'robbery': [robbery],\n",
    "        'burglary': [burglary],\n",
    "        'unemployment_rate_2022': [unemployment_rate_2022],\n",
    "        'population_estimate_2022': [population_estimate_2022],\n",
    "        'poverty_index': [poverty_index],\n",
    "        'education_improvement': [education_improvement]\n",
    "    })\n",
    "\n",
    "    return input_data\n",
    "\n",
    "# Collect user input\n",
    "new_input_data = user_input_features()"
   ]
  },
  {
   "cell_type": "code",
   "execution_count": 25,
   "metadata": {
    "colab": {
     "base_uri": "https://localhost:8080/",
     "height": 145
    },
    "id": "w4yCnl2Pm3Kb",
    "outputId": "4e16f734-4415-4ea5-e958-d5b56906c2ab"
   },
   "outputs": [
    {
     "name": "stdout",
     "output_type": "stream",
     "text": [
      "\n",
      "Prediction Results:\n"
     ]
    },
    {
     "data": {
      "application/vnd.google.colaboratory.intrinsic+json": {
       "summary": "{\n  \"name\": \"prediction_results\",\n  \"rows\": 1,\n  \"fields\": [\n    {\n      \"column\": \"murder\",\n      \"properties\": {\n        \"dtype\": \"number\",\n        \"std\": null,\n        \"min\": 4.787491742782046,\n        \"max\": 4.787491742782046,\n        \"num_unique_values\": 1,\n        \"samples\": [\n          4.787491742782046\n        ],\n        \"semantic_type\": \"\",\n        \"description\": \"\"\n      }\n    },\n    {\n      \"column\": \"rape\",\n      \"properties\": {\n        \"dtype\": \"number\",\n        \"std\": null,\n        \"min\": 5.303304908059076,\n        \"max\": 5.303304908059076,\n        \"num_unique_values\": 1,\n        \"samples\": [\n          5.303304908059076\n        ],\n        \"semantic_type\": \"\",\n        \"description\": \"\"\n      }\n    },\n    {\n      \"column\": \"robbery\",\n      \"properties\": {\n        \"dtype\": \"number\",\n        \"std\": null,\n        \"min\": 7.483806687665835,\n        \"max\": 7.483806687665835,\n        \"num_unique_values\": 1,\n        \"samples\": [\n          7.483806687665835\n        ],\n        \"semantic_type\": \"\",\n        \"description\": \"\"\n      }\n    },\n    {\n      \"column\": \"burglary\",\n      \"properties\": {\n        \"dtype\": \"number\",\n        \"std\": null,\n        \"min\": 8.516392871245468,\n        \"max\": 8.516392871245468,\n        \"num_unique_values\": 1,\n        \"samples\": [\n          8.516392871245468\n        ],\n        \"semantic_type\": \"\",\n        \"description\": \"\"\n      }\n    },\n    {\n      \"column\": \"unemployment_rate_2022\",\n      \"properties\": {\n        \"dtype\": \"number\",\n        \"std\": null,\n        \"min\": 1.410986973710262,\n        \"max\": 1.410986973710262,\n        \"num_unique_values\": 1,\n        \"samples\": [\n          1.410986973710262\n        ],\n        \"semantic_type\": \"\",\n        \"description\": \"\"\n      }\n    },\n    {\n      \"column\": \"population_estimate_2022\",\n      \"properties\": {\n        \"dtype\": \"number\",\n        \"std\": null,\n        \"min\": 12.564425181524145,\n        \"max\": 12.564425181524145,\n        \"num_unique_values\": 1,\n        \"samples\": [\n          12.564425181524145\n        ],\n        \"semantic_type\": \"\",\n        \"description\": \"\"\n      }\n    },\n    {\n      \"column\": \"poverty_index\",\n      \"properties\": {\n        \"dtype\": \"number\",\n        \"std\": null,\n        \"min\": 88.8,\n        \"max\": 88.8,\n        \"num_unique_values\": 1,\n        \"samples\": [\n          88.8\n        ],\n        \"semantic_type\": \"\",\n        \"description\": \"\"\n      }\n    },\n    {\n      \"column\": \"education_improvement\",\n      \"properties\": {\n        \"dtype\": \"number\",\n        \"std\": null,\n        \"min\": 2.83,\n        \"max\": 2.83,\n        \"num_unique_values\": 1,\n        \"samples\": [\n          2.83\n        ],\n        \"semantic_type\": \"\",\n        \"description\": \"\"\n      }\n    },\n    {\n      \"column\": \"Predicted_Crime_Rate\",\n      \"properties\": {\n        \"dtype\": \"number\",\n        \"std\": null,\n        \"min\": 736.443020470952,\n        \"max\": 736.443020470952,\n        \"num_unique_values\": 1,\n        \"samples\": [\n          736.443020470952\n        ],\n        \"semantic_type\": \"\",\n        \"description\": \"\"\n      }\n    },\n    {\n      \"column\": \"Safety_Level\",\n      \"properties\": {\n        \"dtype\": \"string\",\n        \"num_unique_values\": 1,\n        \"samples\": [\n          \"High-Risk\"\n        ],\n        \"semantic_type\": \"\",\n        \"description\": \"\"\n      }\n    }\n  ]\n}",
       "type": "dataframe",
       "variable_name": "prediction_results"
      },
      "text/html": [
       "\n",
       "  <div id=\"df-032e83d9-6cf5-4ac9-8b29-0efb3e3795cd\" class=\"colab-df-container\">\n",
       "    <div>\n",
       "<style scoped>\n",
       "    .dataframe tbody tr th:only-of-type {\n",
       "        vertical-align: middle;\n",
       "    }\n",
       "\n",
       "    .dataframe tbody tr th {\n",
       "        vertical-align: top;\n",
       "    }\n",
       "\n",
       "    .dataframe thead th {\n",
       "        text-align: right;\n",
       "    }\n",
       "</style>\n",
       "<table border=\"1\" class=\"dataframe\">\n",
       "  <thead>\n",
       "    <tr style=\"text-align: right;\">\n",
       "      <th></th>\n",
       "      <th>murder</th>\n",
       "      <th>rape</th>\n",
       "      <th>robbery</th>\n",
       "      <th>burglary</th>\n",
       "      <th>unemployment_rate_2022</th>\n",
       "      <th>population_estimate_2022</th>\n",
       "      <th>poverty_index</th>\n",
       "      <th>education_improvement</th>\n",
       "      <th>Predicted_Crime_Rate</th>\n",
       "      <th>Safety_Level</th>\n",
       "    </tr>\n",
       "  </thead>\n",
       "  <tbody>\n",
       "    <tr>\n",
       "      <th>0</th>\n",
       "      <td>4.787492</td>\n",
       "      <td>5.303305</td>\n",
       "      <td>7.483807</td>\n",
       "      <td>8.516393</td>\n",
       "      <td>1.410987</td>\n",
       "      <td>12.564425</td>\n",
       "      <td>88.8</td>\n",
       "      <td>2.83</td>\n",
       "      <td>736.44302</td>\n",
       "      <td>High-Risk</td>\n",
       "    </tr>\n",
       "  </tbody>\n",
       "</table>\n",
       "</div>\n",
       "    <div class=\"colab-df-buttons\">\n",
       "\n",
       "  <div class=\"colab-df-container\">\n",
       "    <button class=\"colab-df-convert\" onclick=\"convertToInteractive('df-032e83d9-6cf5-4ac9-8b29-0efb3e3795cd')\"\n",
       "            title=\"Convert this dataframe to an interactive table.\"\n",
       "            style=\"display:none;\">\n",
       "\n",
       "  <svg xmlns=\"http://www.w3.org/2000/svg\" height=\"24px\" viewBox=\"0 -960 960 960\">\n",
       "    <path d=\"M120-120v-720h720v720H120Zm60-500h600v-160H180v160Zm220 220h160v-160H400v160Zm0 220h160v-160H400v160ZM180-400h160v-160H180v160Zm440 0h160v-160H620v160ZM180-180h160v-160H180v160Zm440 0h160v-160H620v160Z\"/>\n",
       "  </svg>\n",
       "    </button>\n",
       "\n",
       "  <style>\n",
       "    .colab-df-container {\n",
       "      display:flex;\n",
       "      gap: 12px;\n",
       "    }\n",
       "\n",
       "    .colab-df-convert {\n",
       "      background-color: #E8F0FE;\n",
       "      border: none;\n",
       "      border-radius: 50%;\n",
       "      cursor: pointer;\n",
       "      display: none;\n",
       "      fill: #1967D2;\n",
       "      height: 32px;\n",
       "      padding: 0 0 0 0;\n",
       "      width: 32px;\n",
       "    }\n",
       "\n",
       "    .colab-df-convert:hover {\n",
       "      background-color: #E2EBFA;\n",
       "      box-shadow: 0px 1px 2px rgba(60, 64, 67, 0.3), 0px 1px 3px 1px rgba(60, 64, 67, 0.15);\n",
       "      fill: #174EA6;\n",
       "    }\n",
       "\n",
       "    .colab-df-buttons div {\n",
       "      margin-bottom: 4px;\n",
       "    }\n",
       "\n",
       "    [theme=dark] .colab-df-convert {\n",
       "      background-color: #3B4455;\n",
       "      fill: #D2E3FC;\n",
       "    }\n",
       "\n",
       "    [theme=dark] .colab-df-convert:hover {\n",
       "      background-color: #434B5C;\n",
       "      box-shadow: 0px 1px 3px 1px rgba(0, 0, 0, 0.15);\n",
       "      filter: drop-shadow(0px 1px 2px rgba(0, 0, 0, 0.3));\n",
       "      fill: #FFFFFF;\n",
       "    }\n",
       "  </style>\n",
       "\n",
       "    <script>\n",
       "      const buttonEl =\n",
       "        document.querySelector('#df-032e83d9-6cf5-4ac9-8b29-0efb3e3795cd button.colab-df-convert');\n",
       "      buttonEl.style.display =\n",
       "        google.colab.kernel.accessAllowed ? 'block' : 'none';\n",
       "\n",
       "      async function convertToInteractive(key) {\n",
       "        const element = document.querySelector('#df-032e83d9-6cf5-4ac9-8b29-0efb3e3795cd');\n",
       "        const dataTable =\n",
       "          await google.colab.kernel.invokeFunction('convertToInteractive',\n",
       "                                                    [key], {});\n",
       "        if (!dataTable) return;\n",
       "\n",
       "        const docLinkHtml = 'Like what you see? Visit the ' +\n",
       "          '<a target=\"_blank\" href=https://colab.research.google.com/notebooks/data_table.ipynb>data table notebook</a>'\n",
       "          + ' to learn more about interactive tables.';\n",
       "        element.innerHTML = '';\n",
       "        dataTable['output_type'] = 'display_data';\n",
       "        await google.colab.output.renderOutput(dataTable, element);\n",
       "        const docLink = document.createElement('div');\n",
       "        docLink.innerHTML = docLinkHtml;\n",
       "        element.appendChild(docLink);\n",
       "      }\n",
       "    </script>\n",
       "  </div>\n",
       "\n",
       "\n",
       "  <div id=\"id_6c48ccf5-a9ac-4b12-aff0-1184605f2061\">\n",
       "    <style>\n",
       "      .colab-df-generate {\n",
       "        background-color: #E8F0FE;\n",
       "        border: none;\n",
       "        border-radius: 50%;\n",
       "        cursor: pointer;\n",
       "        display: none;\n",
       "        fill: #1967D2;\n",
       "        height: 32px;\n",
       "        padding: 0 0 0 0;\n",
       "        width: 32px;\n",
       "      }\n",
       "\n",
       "      .colab-df-generate:hover {\n",
       "        background-color: #E2EBFA;\n",
       "        box-shadow: 0px 1px 2px rgba(60, 64, 67, 0.3), 0px 1px 3px 1px rgba(60, 64, 67, 0.15);\n",
       "        fill: #174EA6;\n",
       "      }\n",
       "\n",
       "      [theme=dark] .colab-df-generate {\n",
       "        background-color: #3B4455;\n",
       "        fill: #D2E3FC;\n",
       "      }\n",
       "\n",
       "      [theme=dark] .colab-df-generate:hover {\n",
       "        background-color: #434B5C;\n",
       "        box-shadow: 0px 1px 3px 1px rgba(0, 0, 0, 0.15);\n",
       "        filter: drop-shadow(0px 1px 2px rgba(0, 0, 0, 0.3));\n",
       "        fill: #FFFFFF;\n",
       "      }\n",
       "    </style>\n",
       "    <button class=\"colab-df-generate\" onclick=\"generateWithVariable('prediction_results')\"\n",
       "            title=\"Generate code using this dataframe.\"\n",
       "            style=\"display:none;\">\n",
       "\n",
       "  <svg xmlns=\"http://www.w3.org/2000/svg\" height=\"24px\"viewBox=\"0 0 24 24\"\n",
       "       width=\"24px\">\n",
       "    <path d=\"M7,19H8.4L18.45,9,17,7.55,7,17.6ZM5,21V16.75L18.45,3.32a2,2,0,0,1,2.83,0l1.4,1.43a1.91,1.91,0,0,1,.58,1.4,1.91,1.91,0,0,1-.58,1.4L9.25,21ZM18.45,9,17,7.55Zm-12,3A5.31,5.31,0,0,0,4.9,8.1,5.31,5.31,0,0,0,1,6.5,5.31,5.31,0,0,0,4.9,4.9,5.31,5.31,0,0,0,6.5,1,5.31,5.31,0,0,0,8.1,4.9,5.31,5.31,0,0,0,12,6.5,5.46,5.46,0,0,0,6.5,12Z\"/>\n",
       "  </svg>\n",
       "    </button>\n",
       "    <script>\n",
       "      (() => {\n",
       "      const buttonEl =\n",
       "        document.querySelector('#id_6c48ccf5-a9ac-4b12-aff0-1184605f2061 button.colab-df-generate');\n",
       "      buttonEl.style.display =\n",
       "        google.colab.kernel.accessAllowed ? 'block' : 'none';\n",
       "\n",
       "      buttonEl.onclick = () => {\n",
       "        google.colab.notebook.generateWithVariable('prediction_results');\n",
       "      }\n",
       "      })();\n",
       "    </script>\n",
       "  </div>\n",
       "\n",
       "    </div>\n",
       "  </div>\n"
      ],
      "text/plain": [
       "     murder      rape   robbery  burglary  unemployment_rate_2022  \\\n",
       "0  4.787492  5.303305  7.483807  8.516393                1.410987   \n",
       "\n",
       "   population_estimate_2022  poverty_index  education_improvement  \\\n",
       "0                 12.564425           88.8                   2.83   \n",
       "\n",
       "   Predicted_Crime_Rate Safety_Level  \n",
       "0             736.44302    High-Risk  "
      ]
     },
     "metadata": {},
     "output_type": "display_data"
    }
   ],
   "source": [
    "# Predict safety level for the input data\n",
    "prediction_results = predict_safety(new_input_data)\n",
    "\n",
    "# Display the results\n",
    "print(\"\\nPrediction Results:\")\n",
    "display(prediction_results)"
   ]
  },
  {
   "cell_type": "code",
   "execution_count": 26,
   "metadata": {
    "colab": {
     "base_uri": "https://localhost:8080/"
    },
    "id": "BNHObxXCpLjf",
    "outputId": "3d131503-b91f-45d6-f73b-379f58bd84f4"
   },
   "outputs": [
    {
     "name": "stdout",
     "output_type": "stream",
     "text": [
      "\n",
      "Based on the input data, the predicted crime rate per 100,000 is 736.44.\n",
      "The area is classified as 'High-Risk'.\n"
     ]
    }
   ],
   "source": [
    "# Interpret the results\n",
    "safety_level = prediction_results['Safety_Level'].values[0]\n",
    "predicted_crime_rate = prediction_results['Predicted_Crime_Rate'].values[0]\n",
    "\n",
    "print(f\"\\nBased on the input data, the predicted crime rate per 100,000 is {predicted_crime_rate:.2f}.\")\n",
    "print(f\"The area is classified as '{safety_level}'.\")"
   ]
  }
 ],
 "metadata": {
  "colab": {
   "provenance": []
  },
  "kernelspec": {
   "display_name": "Python 3",
   "name": "python3"
  },
  "language_info": {
   "codemirror_mode": {
    "name": "ipython",
    "version": 3
   },
   "file_extension": ".py",
   "mimetype": "text/x-python",
   "name": "python",
   "nbconvert_exporter": "python",
   "pygments_lexer": "ipython3",
   "version": "3.12.4"
  }
 },
 "nbformat": 4,
 "nbformat_minor": 0
}
